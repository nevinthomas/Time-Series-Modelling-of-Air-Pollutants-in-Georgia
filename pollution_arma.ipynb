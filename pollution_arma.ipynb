{
 "cells": [
  {
   "cell_type": "code",
   "execution_count": 1,
   "metadata": {},
   "outputs": [
    {
     "data": {
      "text/html": [
       "'C:/Users/nevin/Downloads/Georgia Tech/Courses/TSA_6402/Project'"
      ],
      "text/latex": [
       "'C:/Users/nevin/Downloads/Georgia Tech/Courses/TSA\\_6402/Project'"
      ],
      "text/markdown": [
       "'C:/Users/nevin/Downloads/Georgia Tech/Courses/TSA_6402/Project'"
      ],
      "text/plain": [
       "[1] \"C:/Users/nevin/Downloads/Georgia Tech/Courses/TSA_6402/Project\""
      ]
     },
     "metadata": {},
     "output_type": "display_data"
    }
   ],
   "source": [
    "rm(list=ls())\n",
    "getwd() "
   ]
  },
  {
   "cell_type": "code",
   "execution_count": 2,
   "metadata": {},
   "outputs": [],
   "source": [
    "setwd(\"C:/Users/nevin/Downloads/Georgia Tech/Courses/TSA_6402/Project/Kaggle/\")\n",
    "poln1<-read.csv(\"DekalbwNA.csv\", header=T)"
   ]
  },
  {
   "cell_type": "code",
   "execution_count": 3,
   "metadata": {},
   "outputs": [
    {
     "name": "stdout",
     "output_type": "stream",
     "text": [
      "[1] 1949    9\n"
     ]
    },
    {
     "data": {
      "text/html": [
       "<table>\n",
       "<caption>A data.frame: 6 × 9</caption>\n",
       "<thead>\n",
       "\t<tr><th></th><th scope=col>Date_Local</th><th scope=col>NO2_AQI</th><th scope=col>NO2_Mean</th><th scope=col>O3_AQI</th><th scope=col>O3_Mean</th><th scope=col>SO2_AQI</th><th scope=col>SO2_Mean</th><th scope=col>CO_AQI</th><th scope=col>CO_Mean</th></tr>\n",
       "\t<tr><th></th><th scope=col>&lt;fct&gt;</th><th scope=col>&lt;int&gt;</th><th scope=col>&lt;dbl&gt;</th><th scope=col>&lt;int&gt;</th><th scope=col>&lt;dbl&gt;</th><th scope=col>&lt;int&gt;</th><th scope=col>&lt;dbl&gt;</th><th scope=col>&lt;int&gt;</th><th scope=col>&lt;dbl&gt;</th></tr>\n",
       "</thead>\n",
       "<tbody>\n",
       "\t<tr><th scope=row>1</th><td>10/1/2010</td><td>29</td><td>16.833333</td><td>41</td><td>0.024417</td><td> 1</td><td>0.525000</td><td>5</td><td>0.279167</td></tr>\n",
       "\t<tr><th scope=row>2</th><td>10/2/2010</td><td>43</td><td>18.333333</td><td>45</td><td>0.023500</td><td>11</td><td>0.929167</td><td>6</td><td>0.275000</td></tr>\n",
       "\t<tr><th scope=row>3</th><td>10/3/2010</td><td>25</td><td> 9.041667</td><td>31</td><td>0.024917</td><td>16</td><td>1.368182</td><td>6</td><td>0.241667</td></tr>\n",
       "\t<tr><th scope=row>4</th><td>10/4/2010</td><td>18</td><td> 9.833333</td><td>23</td><td>0.016458</td><td> 9</td><td>0.683333</td><td>2</td><td>0.170833</td></tr>\n",
       "\t<tr><th scope=row>5</th><td>10/5/2010</td><td>37</td><td>15.291667</td><td>31</td><td>0.015667</td><td> 0</td><td>0.308333</td><td>3</td><td>0.225000</td></tr>\n",
       "\t<tr><th scope=row>6</th><td>10/6/2010</td><td>48</td><td>21.750000</td><td>34</td><td>0.015333</td><td> 1</td><td>0.754167</td><td>6</td><td>0.370833</td></tr>\n",
       "</tbody>\n",
       "</table>\n"
      ],
      "text/latex": [
       "A data.frame: 6 × 9\n",
       "\\begin{tabular}{r|lllllllll}\n",
       "  & Date\\_Local & NO2\\_AQI & NO2\\_Mean & O3\\_AQI & O3\\_Mean & SO2\\_AQI & SO2\\_Mean & CO\\_AQI & CO\\_Mean\\\\\n",
       "  & <fct> & <int> & <dbl> & <int> & <dbl> & <int> & <dbl> & <int> & <dbl>\\\\\n",
       "\\hline\n",
       "\t1 & 10/1/2010 & 29 & 16.833333 & 41 & 0.024417 &  1 & 0.525000 & 5 & 0.279167\\\\\n",
       "\t2 & 10/2/2010 & 43 & 18.333333 & 45 & 0.023500 & 11 & 0.929167 & 6 & 0.275000\\\\\n",
       "\t3 & 10/3/2010 & 25 &  9.041667 & 31 & 0.024917 & 16 & 1.368182 & 6 & 0.241667\\\\\n",
       "\t4 & 10/4/2010 & 18 &  9.833333 & 23 & 0.016458 &  9 & 0.683333 & 2 & 0.170833\\\\\n",
       "\t5 & 10/5/2010 & 37 & 15.291667 & 31 & 0.015667 &  0 & 0.308333 & 3 & 0.225000\\\\\n",
       "\t6 & 10/6/2010 & 48 & 21.750000 & 34 & 0.015333 &  1 & 0.754167 & 6 & 0.370833\\\\\n",
       "\\end{tabular}\n"
      ],
      "text/markdown": [
       "\n",
       "A data.frame: 6 × 9\n",
       "\n",
       "| <!--/--> | Date_Local &lt;fct&gt; | NO2_AQI &lt;int&gt; | NO2_Mean &lt;dbl&gt; | O3_AQI &lt;int&gt; | O3_Mean &lt;dbl&gt; | SO2_AQI &lt;int&gt; | SO2_Mean &lt;dbl&gt; | CO_AQI &lt;int&gt; | CO_Mean &lt;dbl&gt; |\n",
       "|---|---|---|---|---|---|---|---|---|---|\n",
       "| 1 | 10/1/2010 | 29 | 16.833333 | 41 | 0.024417 |  1 | 0.525000 | 5 | 0.279167 |\n",
       "| 2 | 10/2/2010 | 43 | 18.333333 | 45 | 0.023500 | 11 | 0.929167 | 6 | 0.275000 |\n",
       "| 3 | 10/3/2010 | 25 |  9.041667 | 31 | 0.024917 | 16 | 1.368182 | 6 | 0.241667 |\n",
       "| 4 | 10/4/2010 | 18 |  9.833333 | 23 | 0.016458 |  9 | 0.683333 | 2 | 0.170833 |\n",
       "| 5 | 10/5/2010 | 37 | 15.291667 | 31 | 0.015667 |  0 | 0.308333 | 3 | 0.225000 |\n",
       "| 6 | 10/6/2010 | 48 | 21.750000 | 34 | 0.015333 |  1 | 0.754167 | 6 | 0.370833 |\n",
       "\n"
      ],
      "text/plain": [
       "  Date_Local NO2_AQI NO2_Mean  O3_AQI O3_Mean  SO2_AQI SO2_Mean CO_AQI CO_Mean \n",
       "1 10/1/2010  29      16.833333 41     0.024417  1      0.525000 5      0.279167\n",
       "2 10/2/2010  43      18.333333 45     0.023500 11      0.929167 6      0.275000\n",
       "3 10/3/2010  25       9.041667 31     0.024917 16      1.368182 6      0.241667\n",
       "4 10/4/2010  18       9.833333 23     0.016458  9      0.683333 2      0.170833\n",
       "5 10/5/2010  37      15.291667 31     0.015667  0      0.308333 3      0.225000\n",
       "6 10/6/2010  48      21.750000 34     0.015333  1      0.754167 6      0.370833"
      ]
     },
     "metadata": {},
     "output_type": "display_data"
    }
   ],
   "source": [
    "# names(poln)\n",
    "print(dim(poln1))\n",
    "N=dim(poln1)[1]\n",
    "head(poln1)"
   ]
  },
  {
   "cell_type": "code",
   "execution_count": 4,
   "metadata": {},
   "outputs": [],
   "source": [
    "#Linear imputation\n",
    "poln1[,2:9]=data.frame(lapply(poln1[,2:9], function(X) approxfun(1:1949, X)(1:1949)))"
   ]
  },
  {
   "cell_type": "code",
   "execution_count": 5,
   "metadata": {},
   "outputs": [],
   "source": [
    "# Exogenous variable\n",
    "temp<-read.csv(\"Dekalbtemp.csv\", header=T)"
   ]
  },
  {
   "cell_type": "code",
   "execution_count": 6,
   "metadata": {},
   "outputs": [
    {
     "name": "stdout",
     "output_type": "stream",
     "text": [
      "[1] 1949    2\n",
      "[1] 1949\n"
     ]
    },
    {
     "data": {
      "text/html": [
       "<table>\n",
       "<caption>A data.frame: 6 × 2</caption>\n",
       "<thead>\n",
       "\t<tr><th></th><th scope=col>Date_Local</th><th scope=col>Temperature</th></tr>\n",
       "\t<tr><th></th><th scope=col>&lt;fct&gt;</th><th scope=col>&lt;fct&gt;</th></tr>\n",
       "</thead>\n",
       "<tbody>\n",
       "\t<tr><th scope=row>1</th><td>10/1/2010</td><td>64.17</td></tr>\n",
       "\t<tr><th scope=row>2</th><td>10/2/2010</td><td>61.13</td></tr>\n",
       "\t<tr><th scope=row>3</th><td>10/3/2010</td><td>57.79</td></tr>\n",
       "\t<tr><th scope=row>4</th><td>10/4/2010</td><td>53.75</td></tr>\n",
       "\t<tr><th scope=row>5</th><td>10/5/2010</td><td>54.08</td></tr>\n",
       "\t<tr><th scope=row>6</th><td>10/6/2010</td><td>54.88</td></tr>\n",
       "</tbody>\n",
       "</table>\n"
      ],
      "text/latex": [
       "A data.frame: 6 × 2\n",
       "\\begin{tabular}{r|ll}\n",
       "  & Date\\_Local & Temperature\\\\\n",
       "  & <fct> & <fct>\\\\\n",
       "\\hline\n",
       "\t1 & 10/1/2010 & 64.17\\\\\n",
       "\t2 & 10/2/2010 & 61.13\\\\\n",
       "\t3 & 10/3/2010 & 57.79\\\\\n",
       "\t4 & 10/4/2010 & 53.75\\\\\n",
       "\t5 & 10/5/2010 & 54.08\\\\\n",
       "\t6 & 10/6/2010 & 54.88\\\\\n",
       "\\end{tabular}\n"
      ],
      "text/markdown": [
       "\n",
       "A data.frame: 6 × 2\n",
       "\n",
       "| <!--/--> | Date_Local &lt;fct&gt; | Temperature &lt;fct&gt; |\n",
       "|---|---|---|\n",
       "| 1 | 10/1/2010 | 64.17 |\n",
       "| 2 | 10/2/2010 | 61.13 |\n",
       "| 3 | 10/3/2010 | 57.79 |\n",
       "| 4 | 10/4/2010 | 53.75 |\n",
       "| 5 | 10/5/2010 | 54.08 |\n",
       "| 6 | 10/6/2010 | 54.88 |\n",
       "\n"
      ],
      "text/plain": [
       "  Date_Local Temperature\n",
       "1 10/1/2010  64.17      \n",
       "2 10/2/2010  61.13      \n",
       "3 10/3/2010  57.79      \n",
       "4 10/4/2010  53.75      \n",
       "5 10/5/2010  54.08      \n",
       "6 10/6/2010  54.88      "
      ]
     },
     "metadata": {},
     "output_type": "display_data"
    }
   ],
   "source": [
    "print(dim(temp))\n",
    "print(length(temp[,2]))\n",
    "head(temp)"
   ]
  },
  {
   "cell_type": "code",
   "execution_count": 7,
   "metadata": {},
   "outputs": [],
   "source": [
    "#Linear imputation\n",
    "temp[,2]=approxfun(1:N, temp[,2])(1:N)"
   ]
  },
  {
   "cell_type": "code",
   "execution_count": 8,
   "metadata": {},
   "outputs": [],
   "source": [
    "ntest=31\n",
    "n=N-ntest\n",
    "poln<-poln1[1:n,]\n",
    "poln_test<-poln1[(n+1):N,]\n",
    "temp_train<-temp[1:n,2]\n",
    "temp_test<-temp[(n+1):N,2]"
   ]
  },
  {
   "cell_type": "code",
   "execution_count": 9,
   "metadata": {},
   "outputs": [],
   "source": [
    "date = as.Date(poln$Date_Local, format=\"%m/%d/%Y\")\n",
    "month = as.factor(format(date,\"%b\"))\n",
    "weekday = as.factor(weekdays(date))\n",
    "weekend <- grepl(\"S.+\",weekday)"
   ]
  },
  {
   "cell_type": "code",
   "execution_count": 10,
   "metadata": {},
   "outputs": [],
   "source": [
    "ppmb<-c(\"NO2_Mean\",\"O3_Mean\",\"SO2_Mean\",\"CO_Mean\")\n",
    "poln_ppmb<-poln[,ppmb]\n",
    "poln_ppmb.ts=ts(poln_ppmb)"
   ]
  },
  {
   "cell_type": "markdown",
   "metadata": {},
   "source": [
    "### EDA"
   ]
  },
  {
   "cell_type": "code",
   "execution_count": 11,
   "metadata": {},
   "outputs": [
    {
     "data": {
      "image/png": "[encoded data removed]",
      "text/plain": [
       "plot without title"
      ]
     },
     "metadata": {},
     "output_type": "display_data"
    }
   ],
   "source": [
    "library(repr)\n",
    "options(repr.plot.width=5, repr.plot.height=5)\n",
    "plot(poln_ppmb.ts, type=\"l\",main=\"\")"
   ]
  },
  {
   "cell_type": "code",
   "execution_count": 12,
   "metadata": {},
   "outputs": [
    {
     "data": {
      "image/png": "[encoded data removed]",
      "text/plain": [
       "Plot with title \"CO_Mean\""
      ]
     },
     "metadata": {},
     "output_type": "display_data"
    }
   ],
   "source": [
    "stats::acf(poln_ppmb.ts,lag.max=731)"
   ]
  },
  {
   "cell_type": "code",
   "execution_count": 13,
   "metadata": {},
   "outputs": [
    {
     "data": {
      "image/png": "[encoded data removed]",
      "text/plain": [
       "Plot with title \"Series  poln_ppmb.ts[, 4]\""
      ]
     },
     "metadata": {},
     "output_type": "display_data"
    }
   ],
   "source": [
    "options(repr.plot.width=5, repr.plot.height=2.5)\n",
    "par(mfrow=c(2,2), mar=c(1,4,1.5,1))\n",
    "pacf(poln_ppmb.ts[,1], lag.max=400, ylab=\"NO2 PACF\")\n",
    "pacf(poln_ppmb.ts[,2], lag.max=400, ylab=\"O3 PACF\")\n",
    "pacf(poln_ppmb.ts[,3], lag.max=400, ylab=\"SO2 PACF\")\n",
    "pacf(poln_ppmb.ts[,4], lag.max=400, ylab=\"CO PACF\")"
   ]
  },
  {
   "cell_type": "code",
   "execution_count": 14,
   "metadata": {},
   "outputs": [
    {
     "data": {
      "image/png": "[encoded data removed]",
      "text/plain": [
       "plot without title"
      ]
     },
     "metadata": {},
     "output_type": "display_data"
    }
   ],
   "source": [
    "# Boxplots\n",
    "month=factor(month,levels = month.abb)\n",
    "options(repr.plot.width=5, repr.plot.height=5)\n",
    "par(mfrow=c(4,1), mar=c(2,4.1,1.5,2.1))\n",
    "boxplot(poln_ppmb[,1] ~ month, xlab = \"Month\", ylab = \"NO2\")\n",
    "boxplot(poln_ppmb[,2] ~ month, xlab = \"Month\", ylab = \"O3\")\n",
    "boxplot(poln_ppmb[,3] ~ month, xlab = \"Month\", ylab = \"SO2\")\n",
    "boxplot(poln_ppmb[,4] ~ month, xlab = \"Month\", ylab = \"CO\")"
   ]
  },
  {
   "cell_type": "code",
   "execution_count": 15,
   "metadata": {},
   "outputs": [
    {
     "data": {
      "image/png": "[encoded data removed]",
      "text/plain": [
       "plot without title"
      ]
     },
     "metadata": {},
     "output_type": "display_data"
    }
   ],
   "source": [
    "# Boxplots\n",
    "day <- ordered(weekday, levels=c(\"Monday\", \"Tuesday\", \"Wednesday\", \"Thursday\",\n",
    "                                        \"Friday\", \"Saturday\", \"Sunday\"))\n",
    "options(repr.plot.width=5, repr.plot.height=3)\n",
    "par(mfrow=c(2,2), mar=c(2,4,1.5,1))\n",
    "boxplot(poln_ppmb[,1] ~ day, xlab = \"Weekday\", ylab = \"NO2\")\n",
    "boxplot(poln_ppmb[,2] ~ day, xlab = \"Weekday\", ylab = \"O3\")\n",
    "boxplot(poln_ppmb[,3] ~ day, xlab = \"Weekday\", ylab = \"SO2\")\n",
    "boxplot(poln_ppmb[,4] ~ day, xlab = \"Weekday\", ylab = \"CO\")"
   ]
  },
  {
   "cell_type": "code",
   "execution_count": 16,
   "metadata": {},
   "outputs": [
    {
     "name": "stderr",
     "output_type": "stream",
     "text": [
      "Warning message:\n",
      "\"package 'forecast' was built under R version 3.6.3\"Registered S3 method overwritten by 'quantmod':\n",
      "  method            from\n",
      "  as.zoo.data.frame zoo \n"
     ]
    },
    {
     "name": "stdout",
     "output_type": "stream",
     "text": [
      "[1] 0\n",
      "[1] 0\n",
      "[1] 0\n",
      "[1] 0\n"
     ]
    }
   ],
   "source": [
    "library(forecast)\n",
    "print(ndiffs(poln_ppmb.ts[,1], test='adf'))\n",
    "print(ndiffs(poln_ppmb.ts[,2], test='adf'))\n",
    "print(ndiffs(poln_ppmb.ts[,3], test='adf'))\n",
    "print(ndiffs(poln_ppmb.ts[,4], test='adf'))"
   ]
  },
  {
   "cell_type": "code",
   "execution_count": 17,
   "metadata": {},
   "outputs": [
    {
     "name": "stderr",
     "output_type": "stream",
     "text": [
      "Warning message:\n",
      "\"package 'tseries' was built under R version 3.6.3\"Warning message in adf.test(poln_ppmb.ts[, 1]):\n",
      "\"p-value smaller than printed p-value\""
     ]
    },
    {
     "name": "stdout",
     "output_type": "stream",
     "text": [
      "\n",
      "\tAugmented Dickey-Fuller Test\n",
      "\n",
      "data:  poln_ppmb.ts[, 1]\n",
      "Dickey-Fuller = -8.2413, Lag order = 12, p-value = 0.01\n",
      "alternative hypothesis: stationary\n",
      "\n"
     ]
    },
    {
     "name": "stderr",
     "output_type": "stream",
     "text": [
      "Warning message in adf.test(poln_ppmb.ts[, 2]):\n",
      "\"p-value smaller than printed p-value\""
     ]
    },
    {
     "name": "stdout",
     "output_type": "stream",
     "text": [
      "\n",
      "\tAugmented Dickey-Fuller Test\n",
      "\n",
      "data:  poln_ppmb.ts[, 2]\n",
      "Dickey-Fuller = -5.5608, Lag order = 12, p-value = 0.01\n",
      "alternative hypothesis: stationary\n",
      "\n"
     ]
    },
    {
     "name": "stderr",
     "output_type": "stream",
     "text": [
      "Warning message in adf.test(poln_ppmb.ts[, 3]):\n",
      "\"p-value smaller than printed p-value\""
     ]
    },
    {
     "name": "stdout",
     "output_type": "stream",
     "text": [
      "\n",
      "\tAugmented Dickey-Fuller Test\n",
      "\n",
      "data:  poln_ppmb.ts[, 3]\n",
      "Dickey-Fuller = -7.8011, Lag order = 12, p-value = 0.01\n",
      "alternative hypothesis: stationary\n",
      "\n"
     ]
    },
    {
     "name": "stderr",
     "output_type": "stream",
     "text": [
      "Warning message in adf.test(poln_ppmb.ts[, 4]):\n",
      "\"p-value smaller than printed p-value\""
     ]
    },
    {
     "name": "stdout",
     "output_type": "stream",
     "text": [
      "\n",
      "\tAugmented Dickey-Fuller Test\n",
      "\n",
      "data:  poln_ppmb.ts[, 4]\n",
      "Dickey-Fuller = -9.6049, Lag order = 12, p-value = 0.01\n",
      "alternative hypothesis: stationary\n",
      "\n"
     ]
    }
   ],
   "source": [
    "library(tseries)\n",
    "print(adf.test(poln_ppmb.ts[,1]))\n",
    "print(adf.test(poln_ppmb.ts[,2]))\n",
    "print(adf.test(poln_ppmb.ts[,3]))\n",
    "print(adf.test(poln_ppmb.ts[,4]))"
   ]
  },
  {
   "cell_type": "code",
   "execution_count": 18,
   "metadata": {},
   "outputs": [
    {
     "data": {
      "text/html": [
       "<table>\n",
       "<caption>A matrix: 4 × 4 of type dbl</caption>\n",
       "<thead>\n",
       "\t<tr><th></th><th scope=col>NO2_Mean</th><th scope=col>O3_Mean</th><th scope=col>SO2_Mean</th><th scope=col>CO_Mean</th></tr>\n",
       "</thead>\n",
       "<tbody>\n",
       "\t<tr><th scope=row>NO2_Mean</th><td> 1.0000000</td><td>-0.10152759</td><td>0.51770642</td><td> 0.5722466</td></tr>\n",
       "\t<tr><th scope=row>O3_Mean</th><td>-0.1015276</td><td> 1.00000000</td><td>0.02463314</td><td>-0.1417559</td></tr>\n",
       "\t<tr><th scope=row>SO2_Mean</th><td> 0.5177064</td><td> 0.02463314</td><td>1.00000000</td><td> 0.2791025</td></tr>\n",
       "\t<tr><th scope=row>CO_Mean</th><td> 0.5722466</td><td>-0.14175594</td><td>0.27910248</td><td> 1.0000000</td></tr>\n",
       "</tbody>\n",
       "</table>\n"
      ],
      "text/latex": [
       "A matrix: 4 × 4 of type dbl\n",
       "\\begin{tabular}{r|llll}\n",
       "  & NO2\\_Mean & O3\\_Mean & SO2\\_Mean & CO\\_Mean\\\\\n",
       "\\hline\n",
       "\tNO2\\_Mean &  1.0000000 & -0.10152759 & 0.51770642 &  0.5722466\\\\\n",
       "\tO3\\_Mean & -0.1015276 &  1.00000000 & 0.02463314 & -0.1417559\\\\\n",
       "\tSO2\\_Mean &  0.5177064 &  0.02463314 & 1.00000000 &  0.2791025\\\\\n",
       "\tCO\\_Mean &  0.5722466 & -0.14175594 & 0.27910248 &  1.0000000\\\\\n",
       "\\end{tabular}\n"
      ],
      "text/markdown": [
       "\n",
       "A matrix: 4 × 4 of type dbl\n",
       "\n",
       "| <!--/--> | NO2_Mean | O3_Mean | SO2_Mean | CO_Mean |\n",
       "|---|---|---|---|---|\n",
       "| NO2_Mean |  1.0000000 | -0.10152759 | 0.51770642 |  0.5722466 |\n",
       "| O3_Mean | -0.1015276 |  1.00000000 | 0.02463314 | -0.1417559 |\n",
       "| SO2_Mean |  0.5177064 |  0.02463314 | 1.00000000 |  0.2791025 |\n",
       "| CO_Mean |  0.5722466 | -0.14175594 | 0.27910248 |  1.0000000 |\n",
       "\n"
      ],
      "text/plain": [
       "         NO2_Mean   O3_Mean     SO2_Mean   CO_Mean   \n",
       "NO2_Mean  1.0000000 -0.10152759 0.51770642  0.5722466\n",
       "O3_Mean  -0.1015276  1.00000000 0.02463314 -0.1417559\n",
       "SO2_Mean  0.5177064  0.02463314 1.00000000  0.2791025\n",
       "CO_Mean   0.5722466 -0.14175594 0.27910248  1.0000000"
      ]
     },
     "metadata": {},
     "output_type": "display_data"
    },
    {
     "name": "stdout",
     "output_type": "stream",
     "text": [
      "[1] 0.3759883\n",
      "[1] 0.4329351\n"
     ]
    }
   ],
   "source": [
    "cor(poln_ppmb)\n",
    "## lag-one correlation\n",
    "print(cor(poln_ppmb.ts[1:(n-1),1],poln_ppmb.ts[2:n,3]))\n",
    "print(cor(poln_ppmb.ts[2:n,1],poln_ppmb.ts[1:(n-1),3]))"
   ]
  },
  {
   "cell_type": "code",
   "execution_count": 19,
   "metadata": {},
   "outputs": [],
   "source": [
    "time.pts = c(1:(length(poln_ppmb.ts[,1])+ntest))\n",
    "time.pts = c(time.pts - min(time.pts))/max(time.pts)\n",
    "pred.time.pts=time.pts[(length(time.pts)-(ntest-1)):length(time.pts)]\n",
    "time.pts=time.pts[1:(length(time.pts)-ntest)]\n",
    "x1 = time.pts\n",
    "x2 = time.pts^2"
   ]
  },
  {
   "cell_type": "markdown",
   "metadata": {},
   "source": [
    "### Trend + Seasonality"
   ]
  },
  {
   "cell_type": "code",
   "execution_count": 20,
   "metadata": {},
   "outputs": [],
   "source": [
    "options(repr.plot.width=5, repr.plot.height=3)"
   ]
  },
  {
   "cell_type": "markdown",
   "metadata": {},
   "source": [
    "##### NO2"
   ]
  },
  {
   "cell_type": "code",
   "execution_count": 21,
   "metadata": {},
   "outputs": [
    {
     "data": {
      "text/plain": [
       "\n",
       "Call:\n",
       "lm(formula = NO2.ts ~ x1 + x2 + weekday + month)\n",
       "\n",
       "Residuals:\n",
       "     Min       1Q   Median       3Q      Max \n",
       "-13.8319  -3.3967  -0.5028   2.8601  26.4144 \n",
       "\n",
       "Coefficients:\n",
       "                 Estimate Std. Error t value Pr(>|t|)    \n",
       "(Intercept)       19.5522     0.5968  32.762  < 2e-16 ***\n",
       "x1               -12.7963     1.6680  -7.672 2.70e-14 ***\n",
       "x2                 7.5030     1.6432   4.566 5.28e-06 ***\n",
       "weekdayMonday     -1.8408     0.4354  -4.228 2.47e-05 ***\n",
       "weekdaySaturday   -1.8949     0.4354  -4.352 1.42e-05 ***\n",
       "weekdaySunday     -3.7773     0.4354  -8.675  < 2e-16 ***\n",
       "weekdayThursday   -0.6097     0.4354  -1.400  0.16157    \n",
       "weekdayTuesday    -1.1830     0.4354  -2.717  0.00665 ** \n",
       "weekdayWednesday  -0.5070     0.4354  -1.164  0.24442    \n",
       "monthFeb          -0.5120     0.5931  -0.863  0.38814    \n",
       "monthMar          -2.3914     0.5791  -4.130 3.79e-05 ***\n",
       "monthApr          -4.2857     0.5840  -7.338 3.20e-13 ***\n",
       "monthMay          -4.2215     0.5795  -7.285 4.70e-13 ***\n",
       "monthJun          -4.5300     0.5846  -7.749 1.50e-14 ***\n",
       "monthJul          -5.3574     0.5802  -9.234  < 2e-16 ***\n",
       "monthAug          -4.6274     0.5806  -7.969 2.73e-15 ***\n",
       "monthSep          -5.0441     0.5860  -8.608  < 2e-16 ***\n",
       "monthOct          -3.0551     0.5566  -5.489 4.58e-08 ***\n",
       "monthNov          -2.4718     0.5610  -4.406 1.11e-05 ***\n",
       "monthDec          -1.5044     0.5572  -2.700  0.00699 ** \n",
       "---\n",
       "Signif. codes:  0 '***' 0.001 '**' 0.01 '*' 0.05 '.' 0.1 ' ' 1\n",
       "\n",
       "Residual standard error: 5.096 on 1898 degrees of freedom\n",
       "Multiple R-squared:  0.2257,\tAdjusted R-squared:  0.2179 \n",
       "F-statistic: 29.11 on 19 and 1898 DF,  p-value: < 2.2e-16\n"
      ]
     },
     "metadata": {},
     "output_type": "display_data"
    },
    {
     "data": {
      "image/png": "[encoded data removed]",
      "text/plain": [
       "plot without title"
      ]
     },
     "metadata": {},
     "output_type": "display_data"
    }
   ],
   "source": [
    "NO2.ts=poln_ppmb.ts[,1]\n",
    "gam.fit2.NO2 = lm(NO2.ts~x1+x2+weekday+month)\n",
    "summary(gam.fit2.NO2)\n",
    "\n",
    "vol.fit.gam2 = fitted(gam.fit2.NO2)\n",
    "ts.plot(NO2.ts,ylab=\"NO2\")\n",
    "lines(vol.fit.gam2,lwd=2,col=\"green\")\n",
    "\n",
    "NO2_tsfit=ts(vol.fit.gam2)\n",
    "NO2_resid=NO2.ts-vol.fit.gam2"
   ]
  },
  {
   "cell_type": "markdown",
   "metadata": {},
   "source": [
    "##### O3"
   ]
  },
  {
   "cell_type": "code",
   "execution_count": 22,
   "metadata": {},
   "outputs": [
    {
     "data": {
      "text/plain": [
       "\n",
       "Call:\n",
       "lm(formula = O3.ts ~ x1 + weekday + month)\n",
       "\n",
       "Residuals:\n",
       "       Min         1Q     Median         3Q        Max \n",
       "-0.0240739 -0.0045139 -0.0001283  0.0042504  0.0254662 \n",
       "\n",
       "Coefficients:\n",
       "                   Estimate Std. Error t value Pr(>|t|)    \n",
       "(Intercept)       0.0176796  0.0006785  26.059  < 2e-16 ***\n",
       "x1               -0.0049684  0.0005290  -9.393  < 2e-16 ***\n",
       "weekdayMonday    -0.0003367  0.0005581  -0.603  0.54630    \n",
       "weekdaySaturday   0.0011586  0.0005580   2.076  0.03802 *  \n",
       "weekdaySunday     0.0010164  0.0005581   1.821  0.06872 .  \n",
       "weekdayThursday   0.0001470  0.0005580   0.264  0.79219    \n",
       "weekdayTuesday   -0.0005381  0.0005581  -0.964  0.33503    \n",
       "weekdayWednesday -0.0004868  0.0005581  -0.872  0.38311    \n",
       "monthFeb          0.0044694  0.0007602   5.879 4.85e-09 ***\n",
       "monthMar          0.0096447  0.0007421  12.996  < 2e-16 ***\n",
       "monthApr          0.0107136  0.0007485  14.313  < 2e-16 ***\n",
       "monthMay          0.0106663  0.0007427  14.362  < 2e-16 ***\n",
       "monthJun          0.0098271  0.0007492  13.116  < 2e-16 ***\n",
       "monthJul          0.0081209  0.0007436  10.921  < 2e-16 ***\n",
       "monthAug          0.0084507  0.0007442  11.356  < 2e-16 ***\n",
       "monthSep          0.0045390  0.0007510   6.044 1.81e-09 ***\n",
       "monthOct          0.0013487  0.0007108   1.898  0.05791 .  \n",
       "monthNov         -0.0001606  0.0007165  -0.224  0.82269    \n",
       "monthDec         -0.0020811  0.0007116  -2.925  0.00349 ** \n",
       "---\n",
       "Signif. codes:  0 '***' 0.001 '**' 0.01 '*' 0.05 '.' 0.1 ' ' 1\n",
       "\n",
       "Residual standard error: 0.006532 on 1899 degrees of freedom\n",
       "Multiple R-squared:  0.3555,\tAdjusted R-squared:  0.3494 \n",
       "F-statistic:  58.2 on 18 and 1899 DF,  p-value: < 2.2e-16\n"
      ]
     },
     "metadata": {},
     "output_type": "display_data"
    },
    {
     "data": {
      "image/png": "[encoded data removed]",
      "text/plain": [
       "plot without title"
      ]
     },
     "metadata": {},
     "output_type": "display_data"
    }
   ],
   "source": [
    "O3.ts=poln_ppmb.ts[,2]\n",
    "gam.fit2.O3 = lm(O3.ts~x1+weekday+month)\n",
    "summary(gam.fit2.O3)\n",
    "\n",
    "vol.fit.gam2 = fitted(gam.fit2.O3)\n",
    "ts.plot(O3.ts,ylab=\"O3\")\n",
    "lines(vol.fit.gam2,lwd=2,col=\"green\")\n",
    "\n",
    "O3_tsfit=ts(vol.fit.gam2)\n",
    "O3_resid=O3.ts-vol.fit.gam2\n",
    "\n",
    "# model1<-lm(O3.ts~x1+weekday+month)\n",
    "# model2<-lm(O3.ts~x1+month)\n",
    "# anova(model1, model2) # 0.03094062"
   ]
  },
  {
   "cell_type": "markdown",
   "metadata": {},
   "source": [
    "##### SO2"
   ]
  },
  {
   "cell_type": "code",
   "execution_count": 23,
   "metadata": {},
   "outputs": [
    {
     "data": {
      "text/plain": [
       "\n",
       "Call:\n",
       "lm(formula = SO2.ts ~ x1 + x2 + weekday + month)\n",
       "\n",
       "Residuals:\n",
       "    Min      1Q  Median      3Q     Max \n",
       "-1.1483 -0.2149 -0.0684  0.1229  4.6739 \n",
       "\n",
       "Coefficients:\n",
       "                 Estimate Std. Error t value Pr(>|t|)    \n",
       "(Intercept)       1.49978    0.05489  27.322  < 2e-16 ***\n",
       "x1               -2.38771    0.15342 -15.563  < 2e-16 ***\n",
       "x2                1.59631    0.15114  10.562  < 2e-16 ***\n",
       "weekdayMonday    -0.11495    0.04005  -2.870 0.004148 ** \n",
       "weekdaySaturday  -0.03501    0.04005  -0.874 0.382085    \n",
       "weekdaySunday    -0.07674    0.04005  -1.916 0.055500 .  \n",
       "weekdayThursday  -0.02155    0.04005  -0.538 0.590654    \n",
       "weekdayTuesday   -0.11040    0.04005  -2.757 0.005898 ** \n",
       "weekdayWednesday -0.05336    0.04005  -1.332 0.182871    \n",
       "monthFeb         -0.19120    0.05456  -3.505 0.000468 ***\n",
       "monthMar         -0.24821    0.05326  -4.660 3.38e-06 ***\n",
       "monthApr         -0.42252    0.05372  -7.865 6.13e-15 ***\n",
       "monthMay         -0.35100    0.05330  -6.585 5.86e-11 ***\n",
       "monthJun         -0.36697    0.05377  -6.825 1.18e-11 ***\n",
       "monthJul         -0.31746    0.05337  -5.949 3.21e-09 ***\n",
       "monthAug         -0.36298    0.05341  -6.796 1.43e-11 ***\n",
       "monthSep         -0.37941    0.05390  -7.040 2.68e-12 ***\n",
       "monthOct         -0.35320    0.05119  -6.900 7.08e-12 ***\n",
       "monthNov         -0.30972    0.05160  -6.003 2.32e-09 ***\n",
       "monthDec         -0.14619    0.05125  -2.853 0.004382 ** \n",
       "---\n",
       "Signif. codes:  0 '***' 0.001 '**' 0.01 '*' 0.05 '.' 0.1 ' ' 1\n",
       "\n",
       "Residual standard error: 0.4687 on 1898 degrees of freedom\n",
       "Multiple R-squared:  0.2851,\tAdjusted R-squared:  0.2779 \n",
       "F-statistic: 39.83 on 19 and 1898 DF,  p-value: < 2.2e-16\n"
      ]
     },
     "metadata": {},
     "output_type": "display_data"
    },
    {
     "data": {
      "image/png": "[encoded data removed]",
      "text/plain": [
       "plot without title"
      ]
     },
     "metadata": {},
     "output_type": "display_data"
    }
   ],
   "source": [
    "SO2.ts=poln_ppmb.ts[,3]\n",
    "gam.fit2.SO2 = lm(SO2.ts~x1+x2+weekday+month)\n",
    "summary(gam.fit2.SO2)\n",
    "\n",
    "vol.fit.gam2 = fitted(gam.fit2.SO2)\n",
    "ts.plot(SO2.ts,ylab=\"SO2\")\n",
    "lines(vol.fit.gam2,lwd=2,col=\"green\")\n",
    "\n",
    "SO2_tsfit=ts(vol.fit.gam2)\n",
    "SO2_resid=SO2.ts-vol.fit.gam2"
   ]
  },
  {
   "cell_type": "markdown",
   "metadata": {},
   "source": [
    "##### CO"
   ]
  },
  {
   "cell_type": "code",
   "execution_count": 24,
   "metadata": {},
   "outputs": [
    {
     "data": {
      "text/plain": [
       "\n",
       "Call:\n",
       "lm(formula = CO.ts ~ x1 + weekday + month)\n",
       "\n",
       "Residuals:\n",
       "     Min       1Q   Median       3Q      Max \n",
       "-0.26888 -0.09298 -0.03002  0.07193  0.54818 \n",
       "\n",
       "Coefficients:\n",
       "                   Estimate Std. Error t value Pr(>|t|)    \n",
       "(Intercept)       0.3640152  0.0135125  26.939  < 2e-16 ***\n",
       "x1               -0.0369459  0.0105353  -3.507 0.000464 ***\n",
       "weekdayMonday    -0.0191695  0.0111149  -1.725 0.084750 .  \n",
       "weekdaySaturday   0.0153670  0.0111145   1.383 0.166946    \n",
       "weekdaySunday    -0.0072248  0.0111146  -0.650 0.515754    \n",
       "weekdayThursday  -0.0132569  0.0111145  -1.193 0.233114    \n",
       "weekdayTuesday   -0.0210232  0.0111149  -1.891 0.058717 .  \n",
       "weekdayWednesday -0.0173585  0.0111148  -1.562 0.118514    \n",
       "monthFeb         -0.0002838  0.0151403  -0.019 0.985048    \n",
       "monthMar         -0.0283981  0.0147809  -1.921 0.054847 .  \n",
       "monthApr         -0.0501138  0.0149079  -3.362 0.000790 ***\n",
       "monthMay         -0.0314351  0.0147915  -2.125 0.033698 *  \n",
       "monthJun         -0.0627033  0.0149223  -4.202 2.77e-05 ***\n",
       "monthJul         -0.0647676  0.0148098  -4.373 1.29e-05 ***\n",
       "monthAug         -0.0463672  0.0148219  -3.128 0.001785 ** \n",
       "monthSep         -0.0310307  0.0149577  -2.075 0.038161 *  \n",
       "monthOct          0.0173223  0.0141566   1.224 0.221245    \n",
       "monthNov          0.0353326  0.0142701   2.476 0.013373 *  \n",
       "monthDec          0.0323756  0.0141718   2.285 0.022451 *  \n",
       "---\n",
       "Signif. codes:  0 '***' 0.001 '**' 0.01 '*' 0.05 '.' 0.1 ' ' 1\n",
       "\n",
       "Residual standard error: 0.1301 on 1899 degrees of freedom\n",
       "Multiple R-squared:  0.08132,\tAdjusted R-squared:  0.07261 \n",
       "F-statistic: 9.339 on 18 and 1899 DF,  p-value: < 2.2e-16\n"
      ]
     },
     "metadata": {},
     "output_type": "display_data"
    },
    {
     "data": {
      "image/png": "[encoded data removed]",
      "text/plain": [
       "plot without title"
      ]
     },
     "metadata": {},
     "output_type": "display_data"
    }
   ],
   "source": [
    "CO.ts=poln_ppmb.ts[,4]\n",
    "gam.fit2.CO = lm(CO.ts~x1+weekday+month)\n",
    "summary(gam.fit2.CO)\n",
    "\n",
    "vol.fit.gam2 = fitted(gam.fit2.CO)\n",
    "ts.plot(CO.ts,ylab=\"CO\")\n",
    "lines(vol.fit.gam2,lwd=2,col=\"green\")\n",
    "\n",
    "CO_tsfit=ts(vol.fit.gam2)\n",
    "CO_resid=CO.ts-vol.fit.gam2"
   ]
  },
  {
   "cell_type": "code",
   "execution_count": 25,
   "metadata": {},
   "outputs": [
    {
     "data": {
      "image/png": "[encoded data removed]",
      "text/plain": [
       "plot without title"
      ]
     },
     "metadata": {},
     "output_type": "display_data"
    }
   ],
   "source": [
    "poln.resid=cbind(NO2_resid,O3_resid,SO2_resid,CO_resid)\n",
    "options(repr.plot.width=5, repr.plot.height=5)\n",
    "plot(poln.resid, main=\"Residual Series\")"
   ]
  },
  {
   "cell_type": "markdown",
   "metadata": {},
   "source": [
    "## ARMA"
   ]
  },
  {
   "cell_type": "code",
   "execution_count": 26,
   "metadata": {},
   "outputs": [
    {
     "name": "stderr",
     "output_type": "stream",
     "text": [
      "Warning message:\n",
      "\"package 'TSA' was built under R version 3.6.3\"Registered S3 methods overwritten by 'TSA':\n",
      "  method       from    \n",
      "  fitted.Arima forecast\n",
      "  plot.Arima   forecast\n",
      "\n",
      "Attaching package: 'TSA'\n",
      "\n",
      "The following objects are masked from 'package:stats':\n",
      "\n",
      "    acf, arima\n",
      "\n",
      "The following object is masked from 'package:utils':\n",
      "\n",
      "    tar\n",
      "\n"
     ]
    }
   ],
   "source": [
    "library(TSA)"
   ]
  },
  {
   "cell_type": "markdown",
   "metadata": {},
   "source": [
    "##### NO2"
   ]
  },
  {
   "cell_type": "code",
   "execution_count": 27,
   "metadata": {},
   "outputs": [
    {
     "name": "stderr",
     "output_type": "stream",
     "text": [
      "Warning message in stats::arima(x = x, order = order, seasonal = seasonal, xreg = xreg, :\n",
      "\"possible convergence problem: optim gave code = 1\"Warning message in stats::arima(x = x, order = order, seasonal = seasonal, xreg = xreg, :\n",
      "\"possible convergence problem: optim gave code = 1\"Warning message in stats::arima(x = x, order = order, seasonal = seasonal, xreg = xreg, :\n",
      "\"possible convergence problem: optim gave code = 1\"Warning message in stats::arima(x = x, order = order, seasonal = seasonal, xreg = xreg, :\n",
      "\"possible convergence problem: optim gave code = 1\"Warning message in stats::arima(x = x, order = order, seasonal = seasonal, xreg = xreg, :\n",
      "\"possible convergence problem: optim gave code = 1\"Warning message in stats::arima(x = x, order = order, seasonal = seasonal, xreg = xreg, :\n",
      "\"possible convergence problem: optim gave code = 1\"Warning message in stats::arima(x = x, order = order, seasonal = seasonal, xreg = xreg, :\n",
      "\"possible convergence problem: optim gave code = 1\"Warning message in stats::arima(x = x, order = order, seasonal = seasonal, xreg = xreg, :\n",
      "\"possible convergence problem: optim gave code = 1\"Warning message in stats::arima(x = x, order = order, seasonal = seasonal, xreg = xreg, :\n",
      "\"possible convergence problem: optim gave code = 1\""
     ]
    },
    {
     "name": "stdout",
     "output_type": "stream",
     "text": [
      "[1] 4 2\n"
     ]
    }
   ],
   "source": [
    "## Order selection -- AIC \n",
    "norder = 6\n",
    "p = c(1:norder)-1; q = c(1:norder)-1\n",
    "aic = matrix(0,norder,norder)\n",
    "for(i in 1:norder){\n",
    "  for(j in 1:norder){\n",
    "    modij = arima(NO2_resid,order = c(p[i],0,q[j]), xreg=temp_train,  method='ML')\n",
    "    aic[i,j] = modij$aic-2*(p[i]+q[j]+1)+2*(p[i]+q[j]+1)*n/(n-p[i]-q[j]-2)\n",
    "  }  \n",
    "}\n",
    "\n",
    "aicv = as.vector(aic)  \n",
    "#plot(aicv,ylab=\"AIC values\")\n",
    "indexp = rep(c(1:norder),norder)\n",
    "indexq = rep(c(1:norder),each=norder)\n",
    "indexaic = which(aicv == min(aicv))\n",
    "porder = indexp[indexaic]-1\n",
    "qorder = indexq[indexaic]-1\n",
    "print(c(porder, qorder))"
   ]
  },
  {
   "cell_type": "code",
   "execution_count": 28,
   "metadata": {},
   "outputs": [
    {
     "data": {
      "image/png": "[encoded data removed]",
      "text/plain": [
       "Plot with title \"Normal Q-Q Plot\""
      ]
     },
     "metadata": {},
     "output_type": "display_data"
    }
   ],
   "source": [
    "## Fit ARMA Model\n",
    "armaNO2.model = arima(NO2_resid,order = c(porder,0,qorder), xreg=temp_train, method='ML')\n",
    "resids.1 = resid(armaNO2.model)\n",
    "\n",
    "## Residual Analysis\n",
    "options(repr.plot.width=6, repr.plot.height=5)\n",
    "par(mfrow=c(2,2))\n",
    "plot(resids.1, ylab='Standardized Residuals')\n",
    "abline(h=0,col='red')\n",
    "acf(resids.1,lag.max=370, main='ACF of the Model Residuals')\n",
    "pacf(resids.1,lag.max=370,main='PACF of the Model Residuals')\n",
    "qqnorm(resids.1)\n",
    "qqline(resids.1)"
   ]
  },
  {
   "cell_type": "code",
   "execution_count": 29,
   "metadata": {},
   "outputs": [
    {
     "name": "stdout",
     "output_type": "stream",
     "text": [
      "\n",
      "Call:\n",
      "arima(x = NO2_resid, order = c(porder, 0, qorder), xreg = temp_train, method = \"ML\")\n",
      "\n",
      "Coefficients:\n",
      "         ar1     ar2      ar3     ar4     ma1      ma2  intercept     xreg\n",
      "      0.6895  0.7096  -0.6388  0.2209  0.0152  -0.9463     1.5058  -0.0028\n",
      "s.e.  0.0326  0.0431   0.0348  0.0241  0.0236   0.0226     0.5577   0.0008\n",
      "\n",
      "sigma^2 estimated as 16.27:  log likelihood = -5397.06,  aic = 10810.13\n",
      "\n",
      "Training set error measures:\n"
     ]
    },
    {
     "name": "stderr",
     "output_type": "stream",
     "text": [
      "Warning message in trainingaccuracy(f, test, d, D):\n",
      "\"test elements must be within sample\""
     ]
    },
    {
     "name": "stdout",
     "output_type": "stream",
     "text": [
      "              ME RMSE MAE MPE MAPE\n",
      "Training set NaN  NaN NaN NaN  NaN\n"
     ]
    }
   ],
   "source": [
    "summary(armaNO2.model)"
   ]
  },
  {
   "cell_type": "code",
   "execution_count": 30,
   "metadata": {},
   "outputs": [
    {
     "data": {
      "text/plain": [
       "\n",
       "\tBox-Pierce test\n",
       "\n",
       "data:  resids.1\n",
       "X-squared = 1.1404, df = 1, p-value = 0.2856\n"
      ]
     },
     "metadata": {},
     "output_type": "display_data"
    },
    {
     "data": {
      "text/plain": [
       "\n",
       "\tBox-Ljung test\n",
       "\n",
       "data:  resids.1\n",
       "X-squared = 1.1446, df = 1, p-value = 0.2847\n"
      ]
     },
     "metadata": {},
     "output_type": "display_data"
    }
   ],
   "source": [
    "## Test for Independence for final model\n",
    "Box.test(resids.1, lag = (porder+qorder+1), type = \"Box-Pierce\", fitdf = (porder+qorder))\n",
    "Box.test(resids.1, lag = (porder+qorder+1), type = \"Ljung-Box\", fitdf = (porder+qorder))"
   ]
  },
  {
   "cell_type": "code",
   "execution_count": 31,
   "metadata": {},
   "outputs": [
    {
     "data": {
      "text/plain": [
       "\n",
       "\tBox-Pierce test\n",
       "\n",
       "data:  resids.1^2\n",
       "X-squared = 147.35, df = 1, p-value < 2.2e-16\n"
      ]
     },
     "metadata": {},
     "output_type": "display_data"
    },
    {
     "data": {
      "text/plain": [
       "\n",
       "\tBox-Ljung test\n",
       "\n",
       "data:  resids.1^2\n",
       "X-squared = 147.81, df = 1, p-value < 2.2e-16\n"
      ]
     },
     "metadata": {},
     "output_type": "display_data"
    }
   ],
   "source": [
    "## Test for heteroscedasticity in residuals\n",
    "Box.test(resids.1^2, lag = (porder+qorder+1), type = \"Box-Pierce\", fitdf = (porder+qorder))\n",
    "Box.test(resids.1^2, lag = (porder+qorder+1), type = \"Ljung-Box\", fitdf = (porder+qorder))"
   ]
  },
  {
   "cell_type": "markdown",
   "metadata": {},
   "source": [
    "##### O3"
   ]
  },
  {
   "cell_type": "code",
   "execution_count": 32,
   "metadata": {},
   "outputs": [
    {
     "name": "stderr",
     "output_type": "stream",
     "text": [
      "Warning message in stats::arima(x = x, order = order, seasonal = seasonal, xreg = xreg, :\n",
      "\"possible convergence problem: optim gave code = 1\"Warning message in stats::arima(x = x, order = order, seasonal = seasonal, xreg = xreg, :\n",
      "\"possible convergence problem: optim gave code = 1\"Warning message in stats::arima(x = x, order = order, seasonal = seasonal, xreg = xreg, :\n",
      "\"possible convergence problem: optim gave code = 1\"Warning message in stats::arima(x = x, order = order, seasonal = seasonal, xreg = xreg, :\n",
      "\"possible convergence problem: optim gave code = 1\"Warning message in stats::arima(x = x, order = order, seasonal = seasonal, xreg = xreg, :\n",
      "\"possible convergence problem: optim gave code = 1\"Warning message in log(s2):\n",
      "\"NaNs produced\"Warning message in stats::arima(x = x, order = order, seasonal = seasonal, xreg = xreg, :\n",
      "\"possible convergence problem: optim gave code = 1\""
     ]
    },
    {
     "name": "stdout",
     "output_type": "stream",
     "text": [
      "[1] 2 5\n"
     ]
    }
   ],
   "source": [
    "## Order selection -- AIC \n",
    "norder = 6\n",
    "p = c(1:norder)-1; q = c(1:norder)-1\n",
    "aic = matrix(0,norder,norder)\n",
    "for(i in 1:norder){\n",
    "  for(j in 1:norder){\n",
    "    modij = arima(O3_resid,order = c(p[i],0,q[j]), xreg=temp_train,  method='ML')\n",
    "    aic[i,j] = modij$aic-2*(p[i]+q[j]+1)+2*(p[i]+q[j]+1)*n/(n-p[i]-q[j]-2)\n",
    "  }  \n",
    "}\n",
    "\n",
    "aicv = as.vector(aic)  \n",
    "# plot(aicv,ylab=\"AIC values\")\n",
    "indexp = rep(c(1:norder),norder)\n",
    "indexq = rep(c(1:norder),each=norder)\n",
    "indexaic = which(aicv == min(aicv))\n",
    "porder = indexp[indexaic]-1\n",
    "qorder = indexq[indexaic]-1\n",
    "print(c(porder, qorder))"
   ]
  },
  {
   "cell_type": "code",
   "execution_count": 33,
   "metadata": {},
   "outputs": [
    {
     "name": "stderr",
     "output_type": "stream",
     "text": [
      "Warning message in stats::arima(x = x, order = order, seasonal = seasonal, xreg = xreg, :\n",
      "\"possible convergence problem: optim gave code = 1\""
     ]
    },
    {
     "data": {
      "image/png": "[encoded data removed]",
      "text/plain": [
       "Plot with title \"Normal Q-Q Plot\""
      ]
     },
     "metadata": {},
     "output_type": "display_data"
    }
   ],
   "source": [
    "## Fit ARMA Model\n",
    "armaO3.model = arima(O3_resid,order = c(porder,0,qorder), xreg=temp_train, method='ML')\n",
    "resids.1 = resid(armaO3.model)\n",
    "\n",
    "## Residual Analysis\n",
    "options(repr.plot.width=6, repr.plot.height=5)\n",
    "par(mfrow=c(2,2))\n",
    "plot(resids.1, ylab='Standardized Residuals')\n",
    "abline(h=0,col='red')\n",
    "acf(resids.1,lag.max=370, main='ACF of the Model Residuals')\n",
    "pacf(resids.1,lag.max=370,main='PACF of the Model Residuals')\n",
    "qqnorm(resids.1)\n",
    "qqline(resids.1)"
   ]
  },
  {
   "cell_type": "code",
   "execution_count": 34,
   "metadata": {},
   "outputs": [
    {
     "data": {
      "text/plain": [
       "\n",
       "\tBox-Pierce test\n",
       "\n",
       "data:  resids.1\n",
       "X-squared = 0.99407, df = 1, p-value = 0.3187\n"
      ]
     },
     "metadata": {},
     "output_type": "display_data"
    },
    {
     "data": {
      "text/plain": [
       "\n",
       "\tBox-Ljung test\n",
       "\n",
       "data:  resids.1\n",
       "X-squared = 0.99907, df = 1, p-value = 0.3175\n"
      ]
     },
     "metadata": {},
     "output_type": "display_data"
    }
   ],
   "source": [
    "## Test for Independence for final model\n",
    "Box.test(resids.1, lag = (porder+qorder+1), type = \"Box-Pierce\", fitdf = (porder+qorder))\n",
    "Box.test(resids.1, lag = (porder+qorder+1), type = \"Ljung-Box\", fitdf = (porder+qorder))"
   ]
  },
  {
   "cell_type": "code",
   "execution_count": 35,
   "metadata": {},
   "outputs": [
    {
     "data": {
      "text/plain": [
       "\n",
       "\tBox-Pierce test\n",
       "\n",
       "data:  resids.1^2\n",
       "X-squared = 16.074, df = 1, p-value = 6.093e-05\n"
      ]
     },
     "metadata": {},
     "output_type": "display_data"
    },
    {
     "data": {
      "text/plain": [
       "\n",
       "\tBox-Ljung test\n",
       "\n",
       "data:  resids.1^2\n",
       "X-squared = 16.126, df = 1, p-value = 5.927e-05\n"
      ]
     },
     "metadata": {},
     "output_type": "display_data"
    }
   ],
   "source": [
    "## Test for heteroscedasticity in residuals\n",
    "Box.test(resids.1^2, lag = (porder+qorder+1), type = \"Box-Pierce\", fitdf = (porder+qorder))\n",
    "Box.test(resids.1^2, lag = (porder+qorder+1), type = \"Ljung-Box\", fitdf = (porder+qorder))"
   ]
  },
  {
   "cell_type": "markdown",
   "metadata": {},
   "source": [
    "##### SO2"
   ]
  },
  {
   "cell_type": "code",
   "execution_count": 36,
   "metadata": {},
   "outputs": [
    {
     "name": "stderr",
     "output_type": "stream",
     "text": [
      "Warning message in stats::arima(x = x, order = order, seasonal = seasonal, xreg = xreg, :\n",
      "\"possible convergence problem: optim gave code = 1\"Warning message in stats::arima(x = x, order = order, seasonal = seasonal, xreg = xreg, :\n",
      "\"possible convergence problem: optim gave code = 1\"Warning message in stats::arima(x = x, order = order, seasonal = seasonal, xreg = xreg, :\n",
      "\"possible convergence problem: optim gave code = 1\"Warning message in stats::arima(x = x, order = order, seasonal = seasonal, xreg = xreg, :\n",
      "\"possible convergence problem: optim gave code = 1\"Warning message in stats::arima(x = x, order = order, seasonal = seasonal, xreg = xreg, :\n",
      "\"possible convergence problem: optim gave code = 1\"Warning message in stats::arima(x = x, order = order, seasonal = seasonal, xreg = xreg, :\n",
      "\"possible convergence problem: optim gave code = 1\"Warning message in stats::arima(x = x, order = order, seasonal = seasonal, xreg = xreg, :\n",
      "\"possible convergence problem: optim gave code = 1\"Warning message in stats::arima(x = x, order = order, seasonal = seasonal, xreg = xreg, :\n",
      "\"possible convergence problem: optim gave code = 1\"Warning message in stats::arima(x = x, order = order, seasonal = seasonal, xreg = xreg, :\n",
      "\"possible convergence problem: optim gave code = 1\"Warning message in stats::arima(x = x, order = order, seasonal = seasonal, xreg = xreg, :\n",
      "\"possible convergence problem: optim gave code = 1\"Warning message in stats::arima(x = x, order = order, seasonal = seasonal, xreg = xreg, :\n",
      "\"possible convergence problem: optim gave code = 1\"Warning message in stats::arima(x = x, order = order, seasonal = seasonal, xreg = xreg, :\n",
      "\"possible convergence problem: optim gave code = 1\"Warning message in stats::arima(x = x, order = order, seasonal = seasonal, xreg = xreg, :\n",
      "\"possible convergence problem: optim gave code = 1\"Warning message in stats::arima(x = x, order = order, seasonal = seasonal, xreg = xreg, :\n",
      "\"possible convergence problem: optim gave code = 1\""
     ]
    },
    {
     "name": "stdout",
     "output_type": "stream",
     "text": [
      "[1] 4 5\n"
     ]
    }
   ],
   "source": [
    "## Order selection -- AIC \n",
    "norder = 6\n",
    "p = c(1:norder)-1; q = c(1:norder)-1\n",
    "aic = matrix(0,norder,norder)\n",
    "for(i in 1:norder){\n",
    "  for(j in 1:norder){\n",
    "    modij = arima(SO2_resid,order = c(p[i],0,q[j]), xreg=temp_train,  method='ML')\n",
    "    aic[i,j] = modij$aic-2*(p[i]+q[j]+1)+2*(p[i]+q[j]+1)*n/(n-p[i]-q[j]-2)\n",
    "  }  \n",
    "}\n",
    "\n",
    "aicv = as.vector(aic)  \n",
    "# plot(aicv,ylab=\"AIC values\")\n",
    "indexp = rep(c(1:norder),norder)\n",
    "indexq = rep(c(1:norder),each=norder)\n",
    "indexaic = which(aicv == min(aicv))\n",
    "porder = indexp[indexaic]-1\n",
    "qorder = indexq[indexaic]-1\n",
    "print(c(porder, qorder))"
   ]
  },
  {
   "cell_type": "code",
   "execution_count": 37,
   "metadata": {},
   "outputs": [
    {
     "name": "stderr",
     "output_type": "stream",
     "text": [
      "Warning message in stats::arima(x = x, order = order, seasonal = seasonal, xreg = xreg, :\n",
      "\"possible convergence problem: optim gave code = 1\""
     ]
    },
    {
     "data": {
      "image/png": "[encoded data removed]",
      "text/plain": [
       "Plot with title \"Normal Q-Q Plot\""
      ]
     },
     "metadata": {},
     "output_type": "display_data"
    }
   ],
   "source": [
    "## Fit ARMA Model\n",
    "armaSO2.model = arima(SO2_resid,order = c(porder,0,qorder), xreg=temp_train, method='ML')\n",
    "resids.1 = resid(armaSO2.model)\n",
    "\n",
    "## Residual Analysis\n",
    "options(repr.plot.width=6, repr.plot.height=5)\n",
    "par(mfrow=c(2,2))\n",
    "plot(resids.1, ylab='Standardized Residuals')\n",
    "abline(h=0,col='red')\n",
    "acf(resids.1,lag.max=370, main='ACF of the Model Residuals')\n",
    "pacf(resids.1,lag.max=370,main='PACF of the Model Residuals')\n",
    "qqnorm(resids.1)\n",
    "qqline(resids.1)"
   ]
  },
  {
   "cell_type": "code",
   "execution_count": 38,
   "metadata": {},
   "outputs": [
    {
     "data": {
      "text/plain": [
       "\n",
       "\tBox-Pierce test\n",
       "\n",
       "data:  resids.1\n",
       "X-squared = 5.0183, df = 1, p-value = 0.02508\n"
      ]
     },
     "metadata": {},
     "output_type": "display_data"
    },
    {
     "data": {
      "text/plain": [
       "\n",
       "\tBox-Ljung test\n",
       "\n",
       "data:  resids.1\n",
       "X-squared = 5.0438, df = 1, p-value = 0.02471\n"
      ]
     },
     "metadata": {},
     "output_type": "display_data"
    }
   ],
   "source": [
    "## Test for Independence for final model\n",
    "Box.test(resids.1, lag = (porder+qorder+1), type = \"Box-Pierce\", fitdf = (porder+qorder))\n",
    "Box.test(resids.1, lag = (porder+qorder+1), type = \"Ljung-Box\", fitdf = (porder+qorder))"
   ]
  },
  {
   "cell_type": "code",
   "execution_count": 39,
   "metadata": {},
   "outputs": [
    {
     "data": {
      "text/plain": [
       "\n",
       "\tBox-Pierce test\n",
       "\n",
       "data:  resids.1^2\n",
       "X-squared = 136.9, df = 1, p-value < 2.2e-16\n"
      ]
     },
     "metadata": {},
     "output_type": "display_data"
    },
    {
     "data": {
      "text/plain": [
       "\n",
       "\tBox-Ljung test\n",
       "\n",
       "data:  resids.1^2\n",
       "X-squared = 137.33, df = 1, p-value < 2.2e-16\n"
      ]
     },
     "metadata": {},
     "output_type": "display_data"
    }
   ],
   "source": [
    "## Test for heteroscedasticity in residuals\n",
    "Box.test(resids.1^2, lag = (porder+qorder+1), type = \"Box-Pierce\", fitdf = (porder+qorder))\n",
    "Box.test(resids.1^2, lag = (porder+qorder+1), type = \"Ljung-Box\", fitdf = (porder+qorder))"
   ]
  },
  {
   "cell_type": "markdown",
   "metadata": {},
   "source": [
    "##### CO"
   ]
  },
  {
   "cell_type": "code",
   "execution_count": 40,
   "metadata": {},
   "outputs": [
    {
     "name": "stderr",
     "output_type": "stream",
     "text": [
      "Warning message in stats::arima(x = x, order = order, seasonal = seasonal, xreg = xreg, :\n",
      "\"possible convergence problem: optim gave code = 1\"Warning message in stats::arima(x = x, order = order, seasonal = seasonal, xreg = xreg, :\n",
      "\"possible convergence problem: optim gave code = 1\"Warning message in stats::arima(x = x, order = order, seasonal = seasonal, xreg = xreg, :\n",
      "\"possible convergence problem: optim gave code = 1\"Warning message in stats::arima(x = x, order = order, seasonal = seasonal, xreg = xreg, :\n",
      "\"possible convergence problem: optim gave code = 1\"Warning message in stats::arima(x = x, order = order, seasonal = seasonal, xreg = xreg, :\n",
      "\"possible convergence problem: optim gave code = 1\"Warning message in stats::arima(x = x, order = order, seasonal = seasonal, xreg = xreg, :\n",
      "\"possible convergence problem: optim gave code = 1\"Warning message in stats::arima(x = x, order = order, seasonal = seasonal, xreg = xreg, :\n",
      "\"possible convergence problem: optim gave code = 1\"Warning message in stats::arima(x = x, order = order, seasonal = seasonal, xreg = xreg, :\n",
      "\"possible convergence problem: optim gave code = 1\""
     ]
    },
    {
     "name": "stdout",
     "output_type": "stream",
     "text": [
      "[1] 3 5\n"
     ]
    }
   ],
   "source": [
    "## Order selection -- AIC \n",
    "norder = 6\n",
    "p = c(1:norder)-1; q = c(1:norder)-1\n",
    "aic = matrix(0,norder,norder)\n",
    "for(i in 1:norder){\n",
    "  for(j in 1:norder){\n",
    "    modij = arima(CO_resid,order = c(p[i],0,q[j]), xreg=temp_train, method='ML')\n",
    "    aic[i,j] = modij$aic-2*(p[i]+q[j]+1)+2*(p[i]+q[j]+1)*n/(n-p[i]-q[j]-2)\n",
    "  }  \n",
    "}\n",
    "\n",
    "aicv = as.vector(aic)  \n",
    "# plot(aicv,ylab=\"AIC values\")\n",
    "indexp = rep(c(1:norder),norder)\n",
    "indexq = rep(c(1:norder),each=norder)\n",
    "indexaic = which(aicv == min(aicv))\n",
    "porder = indexp[indexaic]-1\n",
    "qorder = indexq[indexaic]-1\n",
    "print(c(porder, qorder))"
   ]
  },
  {
   "cell_type": "code",
   "execution_count": 41,
   "metadata": {},
   "outputs": [
    {
     "name": "stderr",
     "output_type": "stream",
     "text": [
      "Warning message in stats::arima(x = x, order = order, seasonal = seasonal, xreg = xreg, :\n",
      "\"possible convergence problem: optim gave code = 1\""
     ]
    },
    {
     "data": {
      "image/png": "[encoded data removed]",
      "text/plain": [
       "Plot with title \"Normal Q-Q Plot\""
      ]
     },
     "metadata": {},
     "output_type": "display_data"
    }
   ],
   "source": [
    "## Fit ARMA Model\n",
    "armaCO.model = arima(CO_resid,order = c(porder,0,qorder), xreg=temp_train, method='ML')\n",
    "resids.1 = resid(armaCO.model)\n",
    "\n",
    "## Residual Analysis\n",
    "options(repr.plot.width=6, repr.plot.height=5)\n",
    "par(mfrow=c(2,2))\n",
    "plot(resids.1, ylab='Standardized Residuals')\n",
    "abline(h=0,col='red')\n",
    "acf(resids.1,lag.max=370, main='ACF of the Model Residuals')\n",
    "pacf(resids.1,lag.max=370,main='PACF of the Model Residuals')\n",
    "qqnorm(resids.1)\n",
    "qqline(resids.1)"
   ]
  },
  {
   "cell_type": "code",
   "execution_count": 42,
   "metadata": {},
   "outputs": [
    {
     "data": {
      "text/plain": [
       "\n",
       "\tBox-Pierce test\n",
       "\n",
       "data:  resids.1\n",
       "X-squared = 3.8831, df = 1, p-value = 0.04878\n"
      ]
     },
     "metadata": {},
     "output_type": "display_data"
    },
    {
     "data": {
      "text/plain": [
       "\n",
       "\tBox-Ljung test\n",
       "\n",
       "data:  resids.1\n",
       "X-squared = 3.9021, df = 1, p-value = 0.04823\n"
      ]
     },
     "metadata": {},
     "output_type": "display_data"
    }
   ],
   "source": [
    "## Test for Independence for final model\n",
    "Box.test(resids.1, lag = (porder+qorder+1), type = \"Box-Pierce\", fitdf = (porder+qorder))\n",
    "Box.test(resids.1, lag = (porder+qorder+1), type = \"Ljung-Box\", fitdf = (porder+qorder))"
   ]
  },
  {
   "cell_type": "code",
   "execution_count": 43,
   "metadata": {},
   "outputs": [
    {
     "data": {
      "text/plain": [
       "\n",
       "\tBox-Pierce test\n",
       "\n",
       "data:  resids.1^2\n",
       "X-squared = 147.81, df = 1, p-value < 2.2e-16\n"
      ]
     },
     "metadata": {},
     "output_type": "display_data"
    },
    {
     "data": {
      "text/plain": [
       "\n",
       "\tBox-Ljung test\n",
       "\n",
       "data:  resids.1^2\n",
       "X-squared = 148.26, df = 1, p-value < 2.2e-16\n"
      ]
     },
     "metadata": {},
     "output_type": "display_data"
    }
   ],
   "source": [
    "## Test for heteroscedasticity in residuals\n",
    "Box.test(resids.1^2, lag = (porder+qorder+1), type = \"Box-Pierce\", fitdf = (porder+qorder))\n",
    "Box.test(resids.1^2, lag = (porder+qorder+1), type = \"Ljung-Box\", fitdf = (porder+qorder))"
   ]
  },
  {
   "cell_type": "markdown",
   "metadata": {},
   "source": [
    "##### Predictions"
   ]
  },
  {
   "cell_type": "code",
   "execution_count": 44,
   "metadata": {},
   "outputs": [],
   "source": [
    "# Prediction variables\n",
    "pred.date = as.Date(poln_test$Date_Local, format=\"%m/%d/%Y\")\n",
    "pred.month = as.factor(format(pred.date,\"%b\"))\n",
    "pred.weekday = as.factor(weekdays(pred.date))\n",
    "pred.input=data.frame(x1=pred.time.pts, x2=pred.time.pts^2, month=pred.month, weekday=pred.weekday)"
   ]
  },
  {
   "cell_type": "code",
   "execution_count": 45,
   "metadata": {},
   "outputs": [
    {
     "data": {
      "text/html": [
       "<span style=white-space:pre-wrap>'NO2 MAPE:  0.480469546592303'</span>"
      ],
      "text/latex": [
       "'NO2 MAPE:  0.480469546592303'"
      ],
      "text/markdown": [
       "<span style=white-space:pre-wrap>'NO2 MAPE:  0.480469546592303'</span>"
      ],
      "text/plain": [
       "[1] \"NO2 MAPE:  0.480469546592303\""
      ]
     },
     "metadata": {},
     "output_type": "display_data"
    },
    {
     "data": {
      "text/html": [
       "<span style=white-space:pre-wrap>'O3 MAPE:  0.416209808335282'</span>"
      ],
      "text/latex": [
       "'O3 MAPE:  0.416209808335282'"
      ],
      "text/markdown": [
       "<span style=white-space:pre-wrap>'O3 MAPE:  0.416209808335282'</span>"
      ],
      "text/plain": [
       "[1] \"O3 MAPE:  0.416209808335282\""
      ]
     },
     "metadata": {},
     "output_type": "display_data"
    },
    {
     "data": {
      "text/html": [
       "<span style=white-space:pre-wrap>'SO2 MAPE:  2.10433469124834'</span>"
      ],
      "text/latex": [
       "'SO2 MAPE:  2.10433469124834'"
      ],
      "text/markdown": [
       "<span style=white-space:pre-wrap>'SO2 MAPE:  2.10433469124834'</span>"
      ],
      "text/plain": [
       "[1] \"SO2 MAPE:  2.10433469124834\""
      ]
     },
     "metadata": {},
     "output_type": "display_data"
    },
    {
     "data": {
      "text/html": [
       "<span style=white-space:pre-wrap>'CO MAPE:  0.383371176592913'</span>"
      ],
      "text/latex": [
       "'CO MAPE:  0.383371176592913'"
      ],
      "text/markdown": [
       "<span style=white-space:pre-wrap>'CO MAPE:  0.383371176592913'</span>"
      ],
      "text/plain": [
       "[1] \"CO MAPE:  0.383371176592913\""
      ]
     },
     "metadata": {},
     "output_type": "display_data"
    }
   ],
   "source": [
    "# MAPE\n",
    "NO2_arma_pred=predict(armaNO2.model, n.ahead=ntest, newxreg=temp_test)$pred\n",
    "O3_arma_pred=predict(armaO3.model, n.ahead=ntest, newxreg=temp_test)$pred\n",
    "SO2_arma_pred=predict(armaSO2.model, n.ahead=ntest, newxreg=temp_test)$pred\n",
    "CO_arma_pred=predict(armaCO.model, n.ahead=ntest, newxreg=temp_test)$pred\n",
    "\n",
    "paste(\"NO2 MAPE: \", mean(abs((poln_test$NO2_Mean-NO2_arma_pred-predict(gam.fit2.NO2,pred.input))/poln_test$NO2_Mean)))\n",
    "paste(\"O3 MAPE: \", mean(abs((poln_test$O3_Mean-O3_arma_pred-predict(gam.fit2.O3,pred.input))/poln_test$O3_Mean)))\n",
    "paste(\"SO2 MAPE: \", mean(abs((poln_test$SO2_Mean-SO2_arma_pred-predict(gam.fit2.SO2,pred.input))/poln_test$SO2_Mean)))\n",
    "paste(\"CO MAPE: \", mean(abs((poln_test$CO_Mean-CO_arma_pred-predict(gam.fit2.CO,pred.input))/poln_test$CO_Mean)))"
   ]
  },
  {
   "cell_type": "code",
   "execution_count": 46,
   "metadata": {},
   "outputs": [],
   "source": [
    "armaX_pred<-cbind(NO2_arma_pred, O3_arma_pred, SO2_arma_pred, CO_arma_pred)\n",
    "write.csv(armaX_pred,\"armaX_pred.csv\", row.names = FALSE)"
   ]
  },
  {
   "cell_type": "code",
   "execution_count": 47,
   "metadata": {},
   "outputs": [
    {
     "data": {
      "image/png": "[encoded data removed]",
      "text/plain": [
       "Plot with title \"CO\""
      ]
     },
     "metadata": {},
     "output_type": "display_data"
    }
   ],
   "source": [
    "options(repr.plot.width=7, repr.plot.height=5)\n",
    "par(mfrow=c(2,2))\n",
    "plot(1:N,ts(poln1[1:N,3]),type='l',xlim=c(1500,1950),main=\"NO2\")\n",
    "lines((n+1):N,NO2_arma_pred+predict(gam.fit2.NO2,pred.input),col=\"green\",lwd=2,type='l')\n",
    "plot(1:N,ts(poln1[1:N,5]),type='l',xlim=c(1500,1950),main=\"O3\")\n",
    "lines((n+1):N,O3_arma_pred+predict(gam.fit2.O3,pred.input),col=\"green\",lwd=2,type='l')\n",
    "plot(1:N,ts(poln1[1:N,7]),type='l',xlim=c(1500,1950),main=\"SO2\")\n",
    "lines((n+1):N,SO2_arma_pred+predict(gam.fit2.SO2,pred.input),col=\"green\",lwd=2,type='l')\n",
    "plot(1:N,ts(poln1[1:N,9]),type='l',xlim=c(1500,1950),main=\"CO\")\n",
    "lines((n+1):N,CO_arma_pred+predict(gam.fit2.CO,pred.input),col=\"green\",lwd=2,type='l')"
   ]
  }
 ],
 "metadata": {
  "kernelspec": {
   "display_name": "R",
   "language": "R",
   "name": "ir"
  },
  "language_info": {
   "codemirror_mode": "r",
   "file_extension": ".r",
   "mimetype": "text/x-r-source",
   "name": "R",
   "pygments_lexer": "r",
   "version": "3.6.1"
  }
 },
 "nbformat": 4,
 "nbformat_minor": 4
}
