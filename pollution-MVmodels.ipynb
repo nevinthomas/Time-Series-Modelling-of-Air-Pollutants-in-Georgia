{
 "cells": [
  {
   "cell_type": "code",
   "execution_count": 1,
   "metadata": {},
   "outputs": [
    {
     "data": {
      "text/html": [
       "'C:/Users/nevin/Downloads/Georgia Tech/Courses/TSA_6402/Project'"
      ],
      "text/latex": [
       "'C:/Users/nevin/Downloads/Georgia Tech/Courses/TSA\\_6402/Project'"
      ],
      "text/markdown": [
       "'C:/Users/nevin/Downloads/Georgia Tech/Courses/TSA_6402/Project'"
      ],
      "text/plain": [
       "[1] \"C:/Users/nevin/Downloads/Georgia Tech/Courses/TSA_6402/Project\""
      ]
     },
     "metadata": {},
     "output_type": "display_data"
    }
   ],
   "source": [
    "rm(list=ls())\n",
    "getwd() "
   ]
  },
  {
   "cell_type": "code",
   "execution_count": 2,
   "metadata": {},
   "outputs": [],
   "source": [
    "setwd(\"C:/Users/nevin/Downloads/Georgia Tech/Courses/TSA_6402/Project/Kaggle/\")\n",
    "poln1<-read.csv(\"DekalbwNA.csv\", header=T)"
   ]
  },
  {
   "cell_type": "code",
   "execution_count": 3,
   "metadata": {},
   "outputs": [
    {
     "name": "stdout",
     "output_type": "stream",
     "text": [
      "[1] 1949    9\n"
     ]
    },
    {
     "data": {
      "text/html": [
       "<table>\n",
       "<caption>A data.frame: 6 × 9</caption>\n",
       "<thead>\n",
       "\t<tr><th></th><th scope=col>Date_Local</th><th scope=col>NO2_AQI</th><th scope=col>NO2_Mean</th><th scope=col>O3_AQI</th><th scope=col>O3_Mean</th><th scope=col>SO2_AQI</th><th scope=col>SO2_Mean</th><th scope=col>CO_AQI</th><th scope=col>CO_Mean</th></tr>\n",
       "\t<tr><th></th><th scope=col>&lt;fct&gt;</th><th scope=col>&lt;int&gt;</th><th scope=col>&lt;dbl&gt;</th><th scope=col>&lt;int&gt;</th><th scope=col>&lt;dbl&gt;</th><th scope=col>&lt;int&gt;</th><th scope=col>&lt;dbl&gt;</th><th scope=col>&lt;int&gt;</th><th scope=col>&lt;dbl&gt;</th></tr>\n",
       "</thead>\n",
       "<tbody>\n",
       "\t<tr><th scope=row>1</th><td>10/1/2010</td><td>29</td><td>16.833333</td><td>41</td><td>0.024417</td><td> 1</td><td>0.525000</td><td>5</td><td>0.279167</td></tr>\n",
       "\t<tr><th scope=row>2</th><td>10/2/2010</td><td>43</td><td>18.333333</td><td>45</td><td>0.023500</td><td>11</td><td>0.929167</td><td>6</td><td>0.275000</td></tr>\n",
       "\t<tr><th scope=row>3</th><td>10/3/2010</td><td>25</td><td> 9.041667</td><td>31</td><td>0.024917</td><td>16</td><td>1.368182</td><td>6</td><td>0.241667</td></tr>\n",
       "\t<tr><th scope=row>4</th><td>10/4/2010</td><td>18</td><td> 9.833333</td><td>23</td><td>0.016458</td><td> 9</td><td>0.683333</td><td>2</td><td>0.170833</td></tr>\n",
       "\t<tr><th scope=row>5</th><td>10/5/2010</td><td>37</td><td>15.291667</td><td>31</td><td>0.015667</td><td> 0</td><td>0.308333</td><td>3</td><td>0.225000</td></tr>\n",
       "\t<tr><th scope=row>6</th><td>10/6/2010</td><td>48</td><td>21.750000</td><td>34</td><td>0.015333</td><td> 1</td><td>0.754167</td><td>6</td><td>0.370833</td></tr>\n",
       "</tbody>\n",
       "</table>\n"
      ],
      "text/latex": [
       "A data.frame: 6 × 9\n",
       "\\begin{tabular}{r|lllllllll}\n",
       "  & Date\\_Local & NO2\\_AQI & NO2\\_Mean & O3\\_AQI & O3\\_Mean & SO2\\_AQI & SO2\\_Mean & CO\\_AQI & CO\\_Mean\\\\\n",
       "  & <fct> & <int> & <dbl> & <int> & <dbl> & <int> & <dbl> & <int> & <dbl>\\\\\n",
       "\\hline\n",
       "\t1 & 10/1/2010 & 29 & 16.833333 & 41 & 0.024417 &  1 & 0.525000 & 5 & 0.279167\\\\\n",
       "\t2 & 10/2/2010 & 43 & 18.333333 & 45 & 0.023500 & 11 & 0.929167 & 6 & 0.275000\\\\\n",
       "\t3 & 10/3/2010 & 25 &  9.041667 & 31 & 0.024917 & 16 & 1.368182 & 6 & 0.241667\\\\\n",
       "\t4 & 10/4/2010 & 18 &  9.833333 & 23 & 0.016458 &  9 & 0.683333 & 2 & 0.170833\\\\\n",
       "\t5 & 10/5/2010 & 37 & 15.291667 & 31 & 0.015667 &  0 & 0.308333 & 3 & 0.225000\\\\\n",
       "\t6 & 10/6/2010 & 48 & 21.750000 & 34 & 0.015333 &  1 & 0.754167 & 6 & 0.370833\\\\\n",
       "\\end{tabular}\n"
      ],
      "text/markdown": [
       "\n",
       "A data.frame: 6 × 9\n",
       "\n",
       "| <!--/--> | Date_Local &lt;fct&gt; | NO2_AQI &lt;int&gt; | NO2_Mean &lt;dbl&gt; | O3_AQI &lt;int&gt; | O3_Mean &lt;dbl&gt; | SO2_AQI &lt;int&gt; | SO2_Mean &lt;dbl&gt; | CO_AQI &lt;int&gt; | CO_Mean &lt;dbl&gt; |\n",
       "|---|---|---|---|---|---|---|---|---|---|\n",
       "| 1 | 10/1/2010 | 29 | 16.833333 | 41 | 0.024417 |  1 | 0.525000 | 5 | 0.279167 |\n",
       "| 2 | 10/2/2010 | 43 | 18.333333 | 45 | 0.023500 | 11 | 0.929167 | 6 | 0.275000 |\n",
       "| 3 | 10/3/2010 | 25 |  9.041667 | 31 | 0.024917 | 16 | 1.368182 | 6 | 0.241667 |\n",
       "| 4 | 10/4/2010 | 18 |  9.833333 | 23 | 0.016458 |  9 | 0.683333 | 2 | 0.170833 |\n",
       "| 5 | 10/5/2010 | 37 | 15.291667 | 31 | 0.015667 |  0 | 0.308333 | 3 | 0.225000 |\n",
       "| 6 | 10/6/2010 | 48 | 21.750000 | 34 | 0.015333 |  1 | 0.754167 | 6 | 0.370833 |\n",
       "\n"
      ],
      "text/plain": [
       "  Date_Local NO2_AQI NO2_Mean  O3_AQI O3_Mean  SO2_AQI SO2_Mean CO_AQI CO_Mean \n",
       "1 10/1/2010  29      16.833333 41     0.024417  1      0.525000 5      0.279167\n",
       "2 10/2/2010  43      18.333333 45     0.023500 11      0.929167 6      0.275000\n",
       "3 10/3/2010  25       9.041667 31     0.024917 16      1.368182 6      0.241667\n",
       "4 10/4/2010  18       9.833333 23     0.016458  9      0.683333 2      0.170833\n",
       "5 10/5/2010  37      15.291667 31     0.015667  0      0.308333 3      0.225000\n",
       "6 10/6/2010  48      21.750000 34     0.015333  1      0.754167 6      0.370833"
      ]
     },
     "metadata": {},
     "output_type": "display_data"
    }
   ],
   "source": [
    "# names(poln)\n",
    "print(dim(poln1))\n",
    "N=dim(poln1)[1]\n",
    "head(poln1)"
   ]
  },
  {
   "cell_type": "code",
   "execution_count": 4,
   "metadata": {},
   "outputs": [],
   "source": [
    "#Linear imputation\n",
    "poln1[,2:9]=data.frame(lapply(poln1[,2:9], function(X) approxfun(1:1949, X)(1:1949)))"
   ]
  },
  {
   "cell_type": "code",
   "execution_count": 5,
   "metadata": {},
   "outputs": [],
   "source": [
    "# Exogenous variable\n",
    "temp<-read.csv(\"Dekalbtemp.csv\", header=T)"
   ]
  },
  {
   "cell_type": "code",
   "execution_count": 6,
   "metadata": {},
   "outputs": [
    {
     "name": "stdout",
     "output_type": "stream",
     "text": [
      "[1] 1949    2\n"
     ]
    },
    {
     "data": {
      "text/html": [
       "<table>\n",
       "<caption>A data.frame: 6 × 2</caption>\n",
       "<thead>\n",
       "\t<tr><th></th><th scope=col>Date_Local</th><th scope=col>Temperature</th></tr>\n",
       "\t<tr><th></th><th scope=col>&lt;fct&gt;</th><th scope=col>&lt;fct&gt;</th></tr>\n",
       "</thead>\n",
       "<tbody>\n",
       "\t<tr><th scope=row>1</th><td>10/1/2010</td><td>64.17</td></tr>\n",
       "\t<tr><th scope=row>2</th><td>10/2/2010</td><td>61.13</td></tr>\n",
       "\t<tr><th scope=row>3</th><td>10/3/2010</td><td>57.79</td></tr>\n",
       "\t<tr><th scope=row>4</th><td>10/4/2010</td><td>53.75</td></tr>\n",
       "\t<tr><th scope=row>5</th><td>10/5/2010</td><td>54.08</td></tr>\n",
       "\t<tr><th scope=row>6</th><td>10/6/2010</td><td>54.88</td></tr>\n",
       "</tbody>\n",
       "</table>\n"
      ],
      "text/latex": [
       "A data.frame: 6 × 2\n",
       "\\begin{tabular}{r|ll}\n",
       "  & Date\\_Local & Temperature\\\\\n",
       "  & <fct> & <fct>\\\\\n",
       "\\hline\n",
       "\t1 & 10/1/2010 & 64.17\\\\\n",
       "\t2 & 10/2/2010 & 61.13\\\\\n",
       "\t3 & 10/3/2010 & 57.79\\\\\n",
       "\t4 & 10/4/2010 & 53.75\\\\\n",
       "\t5 & 10/5/2010 & 54.08\\\\\n",
       "\t6 & 10/6/2010 & 54.88\\\\\n",
       "\\end{tabular}\n"
      ],
      "text/markdown": [
       "\n",
       "A data.frame: 6 × 2\n",
       "\n",
       "| <!--/--> | Date_Local &lt;fct&gt; | Temperature &lt;fct&gt; |\n",
       "|---|---|---|\n",
       "| 1 | 10/1/2010 | 64.17 |\n",
       "| 2 | 10/2/2010 | 61.13 |\n",
       "| 3 | 10/3/2010 | 57.79 |\n",
       "| 4 | 10/4/2010 | 53.75 |\n",
       "| 5 | 10/5/2010 | 54.08 |\n",
       "| 6 | 10/6/2010 | 54.88 |\n",
       "\n"
      ],
      "text/plain": [
       "  Date_Local Temperature\n",
       "1 10/1/2010  64.17      \n",
       "2 10/2/2010  61.13      \n",
       "3 10/3/2010  57.79      \n",
       "4 10/4/2010  53.75      \n",
       "5 10/5/2010  54.08      \n",
       "6 10/6/2010  54.88      "
      ]
     },
     "metadata": {},
     "output_type": "display_data"
    }
   ],
   "source": [
    "print(dim(temp))\n",
    "head(temp)"
   ]
  },
  {
   "cell_type": "code",
   "execution_count": 7,
   "metadata": {},
   "outputs": [],
   "source": [
    "#Linear imputation\n",
    "temp[,2]=approxfun(1:N, temp[,2])(1:N)"
   ]
  },
  {
   "cell_type": "code",
   "execution_count": 8,
   "metadata": {},
   "outputs": [],
   "source": [
    "ntest=31\n",
    "n=N-ntest\n",
    "poln<-poln1[1:n,]\n",
    "poln_test<-poln1[(n+1):N,]\n",
    "temp_train<-temp[1:n,2]\n",
    "temp_test<-temp[(n+1):N,2]"
   ]
  },
  {
   "cell_type": "code",
   "execution_count": 9,
   "metadata": {},
   "outputs": [],
   "source": [
    "date = as.Date(poln$Date_Local, format=\"%m/%d/%Y\")\n",
    "month = as.factor(format(date,\"%b\"))\n",
    "weekday = as.factor(weekdays(date))\n",
    "weekend <- grepl(\"S.+\",weekday)"
   ]
  },
  {
   "cell_type": "code",
   "execution_count": 10,
   "metadata": {},
   "outputs": [],
   "source": [
    "ppmb<-c(\"NO2_Mean\",\"O3_Mean\",\"SO2_Mean\",\"CO_Mean\")\n",
    "poln_ppmb<-poln[,ppmb]\n",
    "poln_ppmb.ts=ts(poln_ppmb)"
   ]
  },
  {
   "cell_type": "code",
   "execution_count": 11,
   "metadata": {},
   "outputs": [
    {
     "data": {
      "image/png": "[encoded data removed]",
      "text/plain": [
       "plot without title"
      ]
     },
     "metadata": {},
     "output_type": "display_data"
    }
   ],
   "source": [
    "library(repr)\n",
    "options(repr.plot.width=5, repr.plot.height=5)\n",
    "plot(poln_ppmb.ts, type=\"l\",main=\"\")"
   ]
  },
  {
   "cell_type": "code",
   "execution_count": 12,
   "metadata": {},
   "outputs": [
    {
     "data": {
      "image/png": "[encoded data removed]",
      "text/plain": [
       "Plot with title \"CO_Mean\""
      ]
     },
     "metadata": {},
     "output_type": "display_data"
    }
   ],
   "source": [
    "stats::acf(poln_ppmb.ts,lag.max=731)"
   ]
  },
  {
   "cell_type": "code",
   "execution_count": 13,
   "metadata": {},
   "outputs": [
    {
     "data": {
      "image/png": "[encoded data removed]",
      "text/plain": [
       "Plot with title \"Series  poln_ppmb.ts[, 4]\""
      ]
     },
     "metadata": {},
     "output_type": "display_data"
    }
   ],
   "source": [
    "options(repr.plot.width=5, repr.plot.height=2.5)\n",
    "par(mfrow=c(2,2), mar=c(1,4,1.5,1))\n",
    "pacf(poln_ppmb.ts[,1], lag.max=400, ylab=\"NO2 PACF\")\n",
    "pacf(poln_ppmb.ts[,2], lag.max=400, ylab=\"O3 PACF\")\n",
    "pacf(poln_ppmb.ts[,3], lag.max=400, ylab=\"SO2 PACF\")\n",
    "pacf(poln_ppmb.ts[,4], lag.max=400, ylab=\"CO PACF\")"
   ]
  },
  {
   "cell_type": "code",
   "execution_count": 14,
   "metadata": {},
   "outputs": [],
   "source": [
    "dpoln_ppmb.ts=cbind(diff(poln_ppmb.ts[,1]),diff(poln_ppmb.ts[,2]),diff(poln_ppmb.ts[,3]),diff(poln_ppmb.ts[,4]))"
   ]
  },
  {
   "cell_type": "code",
   "execution_count": 15,
   "metadata": {},
   "outputs": [
    {
     "name": "stderr",
     "output_type": "stream",
     "text": [
      "Warning message:\n",
      "\"package 'forecast' was built under R version 3.6.3\"Registered S3 method overwritten by 'quantmod':\n",
      "  method            from\n",
      "  as.zoo.data.frame zoo \n"
     ]
    },
    {
     "name": "stdout",
     "output_type": "stream",
     "text": [
      "[1] 0\n",
      "[1] 0\n",
      "[1] 0\n",
      "[1] 0\n"
     ]
    }
   ],
   "source": [
    "library(forecast)\n",
    "print(ndiffs(poln_ppmb.ts[,1], test='adf'))\n",
    "print(ndiffs(poln_ppmb.ts[,2], test='adf'))\n",
    "print(ndiffs(poln_ppmb.ts[,3], test='adf'))\n",
    "print(ndiffs(poln_ppmb.ts[,4], test='adf'))"
   ]
  },
  {
   "cell_type": "code",
   "execution_count": 16,
   "metadata": {},
   "outputs": [
    {
     "name": "stderr",
     "output_type": "stream",
     "text": [
      "Warning message:\n",
      "\"package 'tseries' was built under R version 3.6.3\"Warning message in adf.test(poln_ppmb.ts[, 1]):\n",
      "\"p-value smaller than printed p-value\""
     ]
    },
    {
     "name": "stdout",
     "output_type": "stream",
     "text": [
      "\n",
      "\tAugmented Dickey-Fuller Test\n",
      "\n",
      "data:  poln_ppmb.ts[, 1]\n",
      "Dickey-Fuller = -8.2413, Lag order = 12, p-value = 0.01\n",
      "alternative hypothesis: stationary\n",
      "\n"
     ]
    },
    {
     "name": "stderr",
     "output_type": "stream",
     "text": [
      "Warning message in adf.test(poln_ppmb.ts[, 2]):\n",
      "\"p-value smaller than printed p-value\""
     ]
    },
    {
     "name": "stdout",
     "output_type": "stream",
     "text": [
      "\n",
      "\tAugmented Dickey-Fuller Test\n",
      "\n",
      "data:  poln_ppmb.ts[, 2]\n",
      "Dickey-Fuller = -5.5608, Lag order = 12, p-value = 0.01\n",
      "alternative hypothesis: stationary\n",
      "\n"
     ]
    },
    {
     "name": "stderr",
     "output_type": "stream",
     "text": [
      "Warning message in adf.test(poln_ppmb.ts[, 3]):\n",
      "\"p-value smaller than printed p-value\""
     ]
    },
    {
     "name": "stdout",
     "output_type": "stream",
     "text": [
      "\n",
      "\tAugmented Dickey-Fuller Test\n",
      "\n",
      "data:  poln_ppmb.ts[, 3]\n",
      "Dickey-Fuller = -7.8011, Lag order = 12, p-value = 0.01\n",
      "alternative hypothesis: stationary\n",
      "\n"
     ]
    },
    {
     "name": "stderr",
     "output_type": "stream",
     "text": [
      "Warning message in adf.test(poln_ppmb.ts[, 4]):\n",
      "\"p-value smaller than printed p-value\""
     ]
    },
    {
     "name": "stdout",
     "output_type": "stream",
     "text": [
      "\n",
      "\tAugmented Dickey-Fuller Test\n",
      "\n",
      "data:  poln_ppmb.ts[, 4]\n",
      "Dickey-Fuller = -9.6049, Lag order = 12, p-value = 0.01\n",
      "alternative hypothesis: stationary\n",
      "\n"
     ]
    }
   ],
   "source": [
    "library(tseries)\n",
    "print(adf.test(poln_ppmb.ts[,1]))\n",
    "print(adf.test(poln_ppmb.ts[,2]))\n",
    "print(adf.test(poln_ppmb.ts[,3]))\n",
    "print(adf.test(poln_ppmb.ts[,4]))"
   ]
  },
  {
   "cell_type": "code",
   "execution_count": 17,
   "metadata": {},
   "outputs": [
    {
     "data": {
      "text/html": [
       "<table>\n",
       "<caption>A matrix: 4 × 4 of type dbl</caption>\n",
       "<thead>\n",
       "\t<tr><th></th><th scope=col>NO2_Mean</th><th scope=col>O3_Mean</th><th scope=col>SO2_Mean</th><th scope=col>CO_Mean</th></tr>\n",
       "</thead>\n",
       "<tbody>\n",
       "\t<tr><th scope=row>NO2_Mean</th><td> 1.0000000</td><td>-0.10152759</td><td>0.51770642</td><td> 0.5722466</td></tr>\n",
       "\t<tr><th scope=row>O3_Mean</th><td>-0.1015276</td><td> 1.00000000</td><td>0.02463314</td><td>-0.1417559</td></tr>\n",
       "\t<tr><th scope=row>SO2_Mean</th><td> 0.5177064</td><td> 0.02463314</td><td>1.00000000</td><td> 0.2791025</td></tr>\n",
       "\t<tr><th scope=row>CO_Mean</th><td> 0.5722466</td><td>-0.14175594</td><td>0.27910248</td><td> 1.0000000</td></tr>\n",
       "</tbody>\n",
       "</table>\n"
      ],
      "text/latex": [
       "A matrix: 4 × 4 of type dbl\n",
       "\\begin{tabular}{r|llll}\n",
       "  & NO2\\_Mean & O3\\_Mean & SO2\\_Mean & CO\\_Mean\\\\\n",
       "\\hline\n",
       "\tNO2\\_Mean &  1.0000000 & -0.10152759 & 0.51770642 &  0.5722466\\\\\n",
       "\tO3\\_Mean & -0.1015276 &  1.00000000 & 0.02463314 & -0.1417559\\\\\n",
       "\tSO2\\_Mean &  0.5177064 &  0.02463314 & 1.00000000 &  0.2791025\\\\\n",
       "\tCO\\_Mean &  0.5722466 & -0.14175594 & 0.27910248 &  1.0000000\\\\\n",
       "\\end{tabular}\n"
      ],
      "text/markdown": [
       "\n",
       "A matrix: 4 × 4 of type dbl\n",
       "\n",
       "| <!--/--> | NO2_Mean | O3_Mean | SO2_Mean | CO_Mean |\n",
       "|---|---|---|---|---|\n",
       "| NO2_Mean |  1.0000000 | -0.10152759 | 0.51770642 |  0.5722466 |\n",
       "| O3_Mean | -0.1015276 |  1.00000000 | 0.02463314 | -0.1417559 |\n",
       "| SO2_Mean |  0.5177064 |  0.02463314 | 1.00000000 |  0.2791025 |\n",
       "| CO_Mean |  0.5722466 | -0.14175594 | 0.27910248 |  1.0000000 |\n",
       "\n"
      ],
      "text/plain": [
       "         NO2_Mean   O3_Mean     SO2_Mean   CO_Mean   \n",
       "NO2_Mean  1.0000000 -0.10152759 0.51770642  0.5722466\n",
       "O3_Mean  -0.1015276  1.00000000 0.02463314 -0.1417559\n",
       "SO2_Mean  0.5177064  0.02463314 1.00000000  0.2791025\n",
       "CO_Mean   0.5722466 -0.14175594 0.27910248  1.0000000"
      ]
     },
     "metadata": {},
     "output_type": "display_data"
    },
    {
     "name": "stdout",
     "output_type": "stream",
     "text": [
      "[1] 0.3759883\n",
      "[1] 0.4329351\n"
     ]
    }
   ],
   "source": [
    "n = length(poln_ppmb.ts[,1])\n",
    "cor(poln_ppmb)\n",
    "## lag-one correlation\n",
    "print(cor(poln_ppmb.ts[1:(n-1),1],poln_ppmb.ts[2:n,3]))\n",
    "print(cor(poln_ppmb.ts[2:n,1],poln_ppmb.ts[1:(n-1),3]))"
   ]
  },
  {
   "cell_type": "code",
   "execution_count": 18,
   "metadata": {},
   "outputs": [],
   "source": [
    "time.pts = c(1:(length(poln_ppmb.ts[,1])+ntest))\n",
    "time.pts = c(time.pts - min(time.pts))/max(time.pts)\n",
    "pred.time.pts=time.pts[(length(time.pts)-(ntest-1)):length(time.pts)]\n",
    "time.pts=time.pts[1:(length(time.pts)-ntest)]\n",
    "x1 = time.pts\n",
    "x2 = time.pts^2"
   ]
  },
  {
   "cell_type": "markdown",
   "metadata": {},
   "source": [
    "## Trend + Seasonality"
   ]
  },
  {
   "cell_type": "code",
   "execution_count": 19,
   "metadata": {},
   "outputs": [],
   "source": [
    "options(repr.plot.width=5, repr.plot.height=3)"
   ]
  },
  {
   "cell_type": "markdown",
   "metadata": {},
   "source": [
    "##### NO2"
   ]
  },
  {
   "cell_type": "code",
   "execution_count": 20,
   "metadata": {},
   "outputs": [
    {
     "data": {
      "text/plain": [
       "\n",
       "Call:\n",
       "lm(formula = NO2.ts ~ x1 + x2 + weekday + month)\n",
       "\n",
       "Residuals:\n",
       "     Min       1Q   Median       3Q      Max \n",
       "-13.8319  -3.3967  -0.5028   2.8601  26.4144 \n",
       "\n",
       "Coefficients:\n",
       "                 Estimate Std. Error t value Pr(>|t|)    \n",
       "(Intercept)       15.2666     0.6103  25.013  < 2e-16 ***\n",
       "x1               -12.7963     1.6680  -7.672 2.70e-14 ***\n",
       "x2                 7.5030     1.6432   4.566 5.28e-06 ***\n",
       "weekdayMonday     -1.8408     0.4354  -4.228 2.47e-05 ***\n",
       "weekdaySaturday   -1.8949     0.4354  -4.352 1.42e-05 ***\n",
       "weekdaySunday     -3.7773     0.4354  -8.675  < 2e-16 ***\n",
       "weekdayThursday   -0.6097     0.4354  -1.400  0.16157    \n",
       "weekdayTuesday    -1.1830     0.4354  -2.717  0.00665 ** \n",
       "weekdayWednesday  -0.5070     0.4354  -1.164  0.24442    \n",
       "monthAug          -0.3417     0.5843  -0.585  0.55876    \n",
       "monthDec           2.7813     0.5619   4.950 8.09e-07 ***\n",
       "monthFeb           3.7737     0.5979   6.311 3.44e-10 ***\n",
       "monthJan           4.2857     0.5840   7.338 3.20e-13 ***\n",
       "monthJul          -1.0718     0.5840  -1.835  0.06663 .  \n",
       "monthJun          -0.2444     0.5886  -0.415  0.67808    \n",
       "monthMar           1.8942     0.5837   3.245  0.00120 ** \n",
       "monthMay           0.0642     0.5837   0.110  0.91244    \n",
       "monthNov           1.8139     0.5659   3.205  0.00137 ** \n",
       "monthOct           1.2306     0.5618   2.191  0.02861 *  \n",
       "monthSep          -0.7584     0.5894  -1.287  0.19832    \n",
       "---\n",
       "Signif. codes:  0 '***' 0.001 '**' 0.01 '*' 0.05 '.' 0.1 ' ' 1\n",
       "\n",
       "Residual standard error: 5.096 on 1898 degrees of freedom\n",
       "Multiple R-squared:  0.2257,\tAdjusted R-squared:  0.2179 \n",
       "F-statistic: 29.11 on 19 and 1898 DF,  p-value: < 2.2e-16\n"
      ]
     },
     "metadata": {},
     "output_type": "display_data"
    },
    {
     "data": {
      "image/png": "[encoded data removed]",
      "text/plain": [
       "plot without title"
      ]
     },
     "metadata": {},
     "output_type": "display_data"
    }
   ],
   "source": [
    "NO2.ts=poln_ppmb.ts[,1]\n",
    "gam.fit2.NO2 = lm(NO2.ts~x1+x2+weekday+month)\n",
    "summary(gam.fit2.NO2)\n",
    "\n",
    "vol.fit.gam2 = fitted(gam.fit2.NO2)\n",
    "ts.plot(NO2.ts,ylab=\"NO2\")\n",
    "lines(vol.fit.gam2,lwd=2,col=\"green\")\n",
    "\n",
    "NO2_tsfit=ts(vol.fit.gam2)\n",
    "NO2_resid=NO2.ts-vol.fit.gam2"
   ]
  },
  {
   "cell_type": "markdown",
   "metadata": {},
   "source": [
    "##### O3"
   ]
  },
  {
   "cell_type": "code",
   "execution_count": 21,
   "metadata": {},
   "outputs": [
    {
     "data": {
      "text/plain": [
       "\n",
       "Call:\n",
       "lm(formula = O3.ts ~ x1 + weekday + month)\n",
       "\n",
       "Residuals:\n",
       "       Min         1Q     Median         3Q        Max \n",
       "-0.0240739 -0.0045139 -0.0001283  0.0042504  0.0254662 \n",
       "\n",
       "Coefficients:\n",
       "                   Estimate Std. Error t value Pr(>|t|)    \n",
       "(Intercept)       2.839e-02  6.940e-04  40.910  < 2e-16 ***\n",
       "x1               -4.968e-03  5.290e-04  -9.393  < 2e-16 ***\n",
       "weekdayMonday    -3.368e-04  5.581e-04  -0.603 0.546303    \n",
       "weekdaySaturday   1.159e-03  5.581e-04   2.076 0.038015 *  \n",
       "weekdaySunday     1.016e-03  5.581e-04   1.821 0.068718 .  \n",
       "weekdayThursday   1.470e-04  5.581e-04   0.264 0.792189    \n",
       "weekdayTuesday   -5.381e-04  5.581e-04  -0.964 0.335034    \n",
       "weekdayWednesday -4.868e-04  5.581e-04  -0.872 0.383115    \n",
       "monthAug         -2.263e-03  7.489e-04  -3.022 0.002547 ** \n",
       "monthDec         -1.279e-02  7.170e-04 -17.845  < 2e-16 ***\n",
       "monthFeb         -6.244e-03  7.663e-04  -8.148 6.63e-16 ***\n",
       "monthJan         -1.071e-02  7.485e-04 -14.313  < 2e-16 ***\n",
       "monthJul         -2.593e-03  7.485e-04  -3.464 0.000544 ***\n",
       "monthJun         -8.865e-04  7.544e-04  -1.175 0.240104    \n",
       "monthMar         -1.069e-03  7.482e-04  -1.429 0.153248    \n",
       "monthMay         -4.732e-05  7.482e-04  -0.063 0.949573    \n",
       "monthNov         -1.087e-02  7.222e-04 -15.058  < 2e-16 ***\n",
       "monthOct         -9.365e-03  7.168e-04 -13.065  < 2e-16 ***\n",
       "monthSep         -6.175e-03  7.554e-04  -8.174 5.37e-16 ***\n",
       "---\n",
       "Signif. codes:  0 '***' 0.001 '**' 0.01 '*' 0.05 '.' 0.1 ' ' 1\n",
       "\n",
       "Residual standard error: 0.006532 on 1899 degrees of freedom\n",
       "Multiple R-squared:  0.3555,\tAdjusted R-squared:  0.3494 \n",
       "F-statistic:  58.2 on 18 and 1899 DF,  p-value: < 2.2e-16\n"
      ]
     },
     "metadata": {},
     "output_type": "display_data"
    },
    {
     "data": {
      "image/png": "[encoded data removed]",
      "text/plain": [
       "plot without title"
      ]
     },
     "metadata": {},
     "output_type": "display_data"
    }
   ],
   "source": [
    "O3.ts=poln_ppmb.ts[,2]\n",
    "gam.fit2.O3 = lm(O3.ts~x1+weekday+month)\n",
    "summary(gam.fit2.O3)\n",
    "\n",
    "vol.fit.gam2 = fitted(gam.fit2.O3)\n",
    "ts.plot(O3.ts,ylab=\"O3\")\n",
    "lines(vol.fit.gam2,lwd=2,col=\"green\")\n",
    "\n",
    "# O3_tsfit=ts(vol.fit.gam2)\n",
    "O3_resid=O3.ts-vol.fit.gam2\n",
    "\n",
    "# model1<-lm(O3.ts~x1+weekday+month)\n",
    "# model2<-lm(O3.ts~x1+month)\n",
    "# anova(model1, model2) # 0.03094062"
   ]
  },
  {
   "cell_type": "markdown",
   "metadata": {},
   "source": [
    "##### SO2"
   ]
  },
  {
   "cell_type": "code",
   "execution_count": 22,
   "metadata": {},
   "outputs": [
    {
     "data": {
      "text/plain": [
       "\n",
       "Call:\n",
       "lm(formula = SO2.ts ~ x1 + x2 + weekday + month)\n",
       "\n",
       "Residuals:\n",
       "    Min      1Q  Median      3Q     Max \n",
       "-1.1483 -0.2149 -0.0684  0.1229  4.6739 \n",
       "\n",
       "Coefficients:\n",
       "                 Estimate Std. Error t value Pr(>|t|)    \n",
       "(Intercept)       1.07725    0.05614  19.189  < 2e-16 ***\n",
       "x1               -2.38771    0.15342 -15.563  < 2e-16 ***\n",
       "x2                1.59631    0.15114  10.562  < 2e-16 ***\n",
       "weekdayMonday    -0.11495    0.04005  -2.870  0.00415 ** \n",
       "weekdaySaturday  -0.03501    0.04005  -0.874  0.38208    \n",
       "weekdaySunday    -0.07674    0.04005  -1.916  0.05550 .  \n",
       "weekdayThursday  -0.02155    0.04005  -0.538  0.59065    \n",
       "weekdayTuesday   -0.11040    0.04005  -2.757  0.00590 ** \n",
       "weekdayWednesday -0.05336    0.04005  -1.332  0.18287    \n",
       "monthAug          0.05954    0.05374   1.108  0.26805    \n",
       "monthDec          0.27633    0.05168   5.347 1.00e-07 ***\n",
       "monthFeb          0.23132    0.05500   4.206 2.72e-05 ***\n",
       "monthJan          0.42252    0.05372   7.865 6.13e-15 ***\n",
       "monthJul          0.10506    0.05372   1.956  0.05063 .  \n",
       "monthJun          0.05555    0.05414   1.026  0.30500    \n",
       "monthMar          0.17431    0.05369   3.246  0.00119 ** \n",
       "monthMay          0.07152    0.05369   1.332  0.18302    \n",
       "monthNov          0.11280    0.05205   2.167  0.03034 *  \n",
       "monthOct          0.06932    0.05167   1.342  0.17990    \n",
       "monthSep          0.04312    0.05421   0.795  0.42651    \n",
       "---\n",
       "Signif. codes:  0 '***' 0.001 '**' 0.01 '*' 0.05 '.' 0.1 ' ' 1\n",
       "\n",
       "Residual standard error: 0.4687 on 1898 degrees of freedom\n",
       "Multiple R-squared:  0.2851,\tAdjusted R-squared:  0.2779 \n",
       "F-statistic: 39.83 on 19 and 1898 DF,  p-value: < 2.2e-16\n"
      ]
     },
     "metadata": {},
     "output_type": "display_data"
    },
    {
     "data": {
      "image/png": "[encoded data removed]",
      "text/plain": [
       "plot without title"
      ]
     },
     "metadata": {},
     "output_type": "display_data"
    }
   ],
   "source": [
    "SO2.ts=poln_ppmb.ts[,3]\n",
    "gam.fit2.SO2 = lm(SO2.ts~x1+x2+weekday+month)\n",
    "summary(gam.fit2.SO2)\n",
    "\n",
    "vol.fit.gam2 = fitted(gam.fit2.SO2)\n",
    "ts.plot(SO2.ts,ylab=\"SO2\")\n",
    "lines(vol.fit.gam2,lwd=2,col=\"green\")\n",
    "\n",
    "SO2_tsfit=ts(vol.fit.gam2)\n",
    "SO2_resid=SO2.ts-vol.fit.gam2"
   ]
  },
  {
   "cell_type": "markdown",
   "metadata": {},
   "source": [
    "##### CO"
   ]
  },
  {
   "cell_type": "code",
   "execution_count": 23,
   "metadata": {},
   "outputs": [
    {
     "data": {
      "text/plain": [
       "\n",
       "Call:\n",
       "lm(formula = CO.ts ~ x1 + weekday + month)\n",
       "\n",
       "Residuals:\n",
       "     Min       1Q   Median       3Q      Max \n",
       "-0.26888 -0.09298 -0.03002  0.07193  0.54818 \n",
       "\n",
       "Coefficients:\n",
       "                  Estimate Std. Error t value Pr(>|t|)    \n",
       "(Intercept)       0.313901   0.013823  22.708  < 2e-16 ***\n",
       "x1               -0.036946   0.010535  -3.507 0.000464 ***\n",
       "weekdayMonday    -0.019169   0.011115  -1.725 0.084750 .  \n",
       "weekdaySaturday   0.015367   0.011114   1.383 0.166946    \n",
       "weekdaySunday    -0.007225   0.011115  -0.650 0.515754    \n",
       "weekdayThursday  -0.013257   0.011115  -1.193 0.233114    \n",
       "weekdayTuesday   -0.021023   0.011115  -1.891 0.058717 .  \n",
       "weekdayWednesday -0.017358   0.011115  -1.562 0.118514    \n",
       "monthAug          0.003747   0.014915   0.251 0.801694    \n",
       "monthDec          0.082489   0.014280   5.777 8.89e-09 ***\n",
       "monthFeb          0.049830   0.015263   3.265 0.001115 ** \n",
       "monthJan          0.050114   0.014908   3.362 0.000790 ***\n",
       "monthJul         -0.014654   0.014908  -0.983 0.325758    \n",
       "monthJun         -0.012590   0.015025  -0.838 0.402198    \n",
       "monthMar          0.021716   0.014901   1.457 0.145199    \n",
       "monthMay          0.018679   0.014901   1.253 0.210180    \n",
       "monthNov          0.085446   0.014383   5.941 3.37e-09 ***\n",
       "monthOct          0.067436   0.014276   4.724 2.49e-06 ***\n",
       "monthSep          0.019083   0.015044   1.268 0.204790    \n",
       "---\n",
       "Signif. codes:  0 '***' 0.001 '**' 0.01 '*' 0.05 '.' 0.1 ' ' 1\n",
       "\n",
       "Residual standard error: 0.1301 on 1899 degrees of freedom\n",
       "Multiple R-squared:  0.08132,\tAdjusted R-squared:  0.07261 \n",
       "F-statistic: 9.339 on 18 and 1899 DF,  p-value: < 2.2e-16\n"
      ]
     },
     "metadata": {},
     "output_type": "display_data"
    },
    {
     "data": {
      "image/png": "[encoded data removed]",
      "text/plain": [
       "plot without title"
      ]
     },
     "metadata": {},
     "output_type": "display_data"
    }
   ],
   "source": [
    "CO.ts=poln_ppmb.ts[,4]\n",
    "gam.fit2.CO = lm(CO.ts~x1+weekday+month)\n",
    "summary(gam.fit2.CO)\n",
    "\n",
    "vol.fit.gam2 = fitted(gam.fit2.CO)\n",
    "ts.plot(CO.ts,ylab=\"CO\")\n",
    "lines(vol.fit.gam2,lwd=2,col=\"green\")\n",
    "\n",
    "CO_tsfit=ts(vol.fit.gam2)\n",
    "CO_resid=CO.ts-vol.fit.gam2"
   ]
  },
  {
   "cell_type": "code",
   "execution_count": 24,
   "metadata": {},
   "outputs": [],
   "source": [
    "# Prediction variables\n",
    "pred.date = as.Date(poln_test$Date_Local, format=\"%m/%d/%Y\")\n",
    "pred.month = as.factor(format(pred.date,\"%b\"))\n",
    "pred.weekday = as.factor(weekdays(pred.date))\n",
    "pred.input=data.frame(x1=pred.time.pts, x2=pred.time.pts^2, month=pred.month, weekday=pred.weekday)"
   ]
  },
  {
   "cell_type": "code",
   "execution_count": 25,
   "metadata": {},
   "outputs": [],
   "source": [
    "poln.resid=cbind(NO2_resid,O3_resid,SO2_resid,CO_resid)"
   ]
  },
  {
   "cell_type": "code",
   "execution_count": 26,
   "metadata": {},
   "outputs": [],
   "source": [
    "# Normalize\n",
    "min_poln.resid=apply(poln.resid,2,min)\n",
    "range_poln.resid=apply(poln.resid,2,max)-apply(poln.resid,2,min)\n",
    "\n",
    "poln.resid=(poln.resid-matrix(min_poln.resid,nrow=n,ncol=length(min_poln.resid),byrow=TRUE))/\n",
    "            matrix(range_poln.resid,nrow=n,ncol=length(range_poln.resid),byrow=TRUE)"
   ]
  },
  {
   "cell_type": "markdown",
   "metadata": {},
   "source": [
    "### MTS"
   ]
  },
  {
   "cell_type": "code",
   "execution_count": 27,
   "metadata": {},
   "outputs": [
    {
     "name": "stderr",
     "output_type": "stream",
     "text": [
      "Warning message:\n",
      "\"package 'MTS' was built under R version 3.6.3\""
     ]
    }
   ],
   "source": [
    "library(MTS)"
   ]
  },
  {
   "cell_type": "markdown",
   "metadata": {},
   "source": [
    "##### Check Granger Causality"
   ]
  },
  {
   "cell_type": "code",
   "execution_count": 28,
   "metadata": {},
   "outputs": [
    {
     "name": "stderr",
     "output_type": "stream",
     "text": [
      "Warning message:\n",
      "\"package 'lmtest' was built under R version 3.6.3\"Loading required package: zoo\n",
      "Warning message:\n",
      "\"package 'zoo' was built under R version 3.6.3\"\n",
      "Attaching package: 'zoo'\n",
      "\n",
      "The following objects are masked from 'package:base':\n",
      "\n",
      "    as.Date, as.Date.numeric\n",
      "\n"
     ]
    },
    {
     "data": {
      "text/html": [
       "<table>\n",
       "<caption>A anova: 2 × 4</caption>\n",
       "<thead>\n",
       "\t<tr><th></th><th scope=col>Res.Df</th><th scope=col>Df</th><th scope=col>F</th><th scope=col>Pr(&gt;F)</th></tr>\n",
       "\t<tr><th></th><th scope=col>&lt;dbl&gt;</th><th scope=col>&lt;dbl&gt;</th><th scope=col>&lt;dbl&gt;</th><th scope=col>&lt;dbl&gt;</th></tr>\n",
       "</thead>\n",
       "<tbody>\n",
       "\t<tr><th scope=row>1</th><td>1911</td><td>NA</td><td>      NA</td><td>          NA</td></tr>\n",
       "\t<tr><th scope=row>2</th><td>1913</td><td>-2</td><td>9.858484</td><td>5.501123e-05</td></tr>\n",
       "</tbody>\n",
       "</table>\n"
      ],
      "text/latex": [
       "A anova: 2 × 4\n",
       "\\begin{tabular}{r|llll}\n",
       "  & Res.Df & Df & F & Pr(>F)\\\\\n",
       "  & <dbl> & <dbl> & <dbl> & <dbl>\\\\\n",
       "\\hline\n",
       "\t1 & 1911 & NA &       NA &           NA\\\\\n",
       "\t2 & 1913 & -2 & 9.858484 & 5.501123e-05\\\\\n",
       "\\end{tabular}\n"
      ],
      "text/markdown": [
       "\n",
       "A anova: 2 × 4\n",
       "\n",
       "| <!--/--> | Res.Df &lt;dbl&gt; | Df &lt;dbl&gt; | F &lt;dbl&gt; | Pr(&gt;F) &lt;dbl&gt; |\n",
       "|---|---|---|---|---|\n",
       "| 1 | 1911 | NA |       NA |           NA |\n",
       "| 2 | 1913 | -2 | 9.858484 | 5.501123e-05 |\n",
       "\n"
      ],
      "text/plain": [
       "  Res.Df Df F        Pr(>F)      \n",
       "1 1911   NA       NA           NA\n",
       "2 1913   -2 9.858484 5.501123e-05"
      ]
     },
     "metadata": {},
     "output_type": "display_data"
    },
    {
     "data": {
      "text/html": [
       "<table>\n",
       "<caption>A anova: 2 × 4</caption>\n",
       "<thead>\n",
       "\t<tr><th></th><th scope=col>Res.Df</th><th scope=col>Df</th><th scope=col>F</th><th scope=col>Pr(&gt;F)</th></tr>\n",
       "\t<tr><th></th><th scope=col>&lt;dbl&gt;</th><th scope=col>&lt;dbl&gt;</th><th scope=col>&lt;dbl&gt;</th><th scope=col>&lt;dbl&gt;</th></tr>\n",
       "</thead>\n",
       "<tbody>\n",
       "\t<tr><th scope=row>1</th><td>1911</td><td>NA</td><td>     NA</td><td>           NA</td></tr>\n",
       "\t<tr><th scope=row>2</th><td>1913</td><td>-2</td><td>269.107</td><td>1.070403e-103</td></tr>\n",
       "</tbody>\n",
       "</table>\n"
      ],
      "text/latex": [
       "A anova: 2 × 4\n",
       "\\begin{tabular}{r|llll}\n",
       "  & Res.Df & Df & F & Pr(>F)\\\\\n",
       "  & <dbl> & <dbl> & <dbl> & <dbl>\\\\\n",
       "\\hline\n",
       "\t1 & 1911 & NA &      NA &            NA\\\\\n",
       "\t2 & 1913 & -2 & 269.107 & 1.070403e-103\\\\\n",
       "\\end{tabular}\n"
      ],
      "text/markdown": [
       "\n",
       "A anova: 2 × 4\n",
       "\n",
       "| <!--/--> | Res.Df &lt;dbl&gt; | Df &lt;dbl&gt; | F &lt;dbl&gt; | Pr(&gt;F) &lt;dbl&gt; |\n",
       "|---|---|---|---|---|\n",
       "| 1 | 1911 | NA |      NA |            NA |\n",
       "| 2 | 1913 | -2 | 269.107 | 1.070403e-103 |\n",
       "\n"
      ],
      "text/plain": [
       "  Res.Df Df F       Pr(>F)       \n",
       "1 1911   NA      NA            NA\n",
       "2 1913   -2 269.107 1.070403e-103"
      ]
     },
     "metadata": {},
     "output_type": "display_data"
    }
   ],
   "source": [
    "library(lmtest)\n",
    "grangertest(NO2_resid ~ SO2_resid, order = 2, data = poln.resid)\n",
    "grangertest(CO_resid ~ NO2_resid, order = 2, data = poln.resid)"
   ]
  },
  {
   "cell_type": "markdown",
   "metadata": {},
   "source": [
    "## VAR on residuals"
   ]
  },
  {
   "cell_type": "code",
   "execution_count": 29,
   "metadata": {},
   "outputs": [],
   "source": [
    "VARorder(poln.resid,  maxp = 100, output=F)\n",
    "# selected order: aic =  2 \n",
    "# selected order: bic =  2 \n",
    "# selected order: hq =  2"
   ]
  },
  {
   "cell_type": "code",
   "execution_count": 30,
   "metadata": {},
   "outputs": [],
   "source": [
    "VARmodel<-VAR(poln.resid, p=2, output=F)"
   ]
  },
  {
   "cell_type": "code",
   "execution_count": 31,
   "metadata": {},
   "outputs": [
    {
     "name": "stdout",
     "output_type": "stream",
     "text": [
      "orig  1918 \n",
      "Forecasts at origin:  1918 \n",
      "      NO2_resid O3_resid SO2_resid CO_resid\n",
      " [1,]    0.3100   0.4673    0.1659   0.2978\n",
      " [2,]    0.3224   0.4757    0.1836   0.3104\n",
      " [3,]    0.3339   0.4789    0.1931   0.3219\n",
      " [4,]    0.3401   0.4813    0.1963   0.3281\n",
      " [5,]    0.3423   0.4830    0.1972   0.3297\n",
      " [6,]    0.3428   0.4841    0.1972   0.3295\n",
      " [7,]    0.3430   0.4847    0.1972   0.3292\n",
      " [8,]    0.3431   0.4850    0.1972   0.3290\n",
      " [9,]    0.3432   0.4853    0.1972   0.3290\n",
      "[10,]    0.3433   0.4854    0.1972   0.3291\n",
      "[11,]    0.3434   0.4855    0.1973   0.3291\n",
      "[12,]    0.3434   0.4856    0.1973   0.3291\n",
      "[13,]    0.3435   0.4856    0.1973   0.3291\n",
      "[14,]    0.3435   0.4857    0.1973   0.3291\n",
      "[15,]    0.3435   0.4857    0.1973   0.3291\n",
      "[16,]    0.3435   0.4857    0.1973   0.3291\n",
      "[17,]    0.3435   0.4857    0.1973   0.3291\n",
      "[18,]    0.3435   0.4857    0.1973   0.3291\n",
      "[19,]    0.3435   0.4857    0.1973   0.3291\n",
      "[20,]    0.3435   0.4857    0.1973   0.3291\n",
      "[21,]    0.3435   0.4857    0.1973   0.3291\n",
      "[22,]    0.3435   0.4857    0.1973   0.3291\n",
      "[23,]    0.3435   0.4857    0.1973   0.3291\n",
      "[24,]    0.3435   0.4857    0.1973   0.3291\n",
      "[25,]    0.3435   0.4857    0.1973   0.3291\n",
      "[26,]    0.3435   0.4857    0.1973   0.3291\n",
      "[27,]    0.3435   0.4857    0.1973   0.3291\n",
      "[28,]    0.3435   0.4857    0.1973   0.3291\n",
      "[29,]    0.3435   0.4857    0.1973   0.3291\n",
      "[30,]    0.3435   0.4857    0.1973   0.3291\n",
      "[31,]    0.3435   0.4857    0.1973   0.3291\n",
      "Standard Errors of predictions:  \n",
      "         [,1]   [,2]    [,3]   [,4]\n",
      " [1,] 0.09828 0.1089 0.07525 0.1237\n",
      " [2,] 0.12075 0.1226 0.07877 0.1540\n",
      " [3,] 0.12452 0.1276 0.07972 0.1579\n",
      " [4,] 0.12548 0.1298 0.08000 0.1582\n",
      " [5,] 0.12584 0.1306 0.08008 0.1584\n",
      " [6,] 0.12594 0.1310 0.08009 0.1584\n",
      " [7,] 0.12597 0.1311 0.08009 0.1584\n",
      " [8,] 0.12598 0.1312 0.08009 0.1584\n",
      " [9,] 0.12598 0.1312 0.08009 0.1584\n",
      "[10,] 0.12599 0.1312 0.08009 0.1584\n",
      "[11,] 0.12599 0.1312 0.08009 0.1584\n",
      "[12,] 0.12599 0.1312 0.08009 0.1584\n",
      "[13,] 0.12599 0.1312 0.08009 0.1584\n",
      "[14,] 0.12599 0.1312 0.08009 0.1584\n",
      "[15,] 0.12599 0.1312 0.08009 0.1584\n",
      "[16,] 0.12599 0.1312 0.08009 0.1584\n",
      "[17,] 0.12599 0.1312 0.08009 0.1584\n",
      "[18,] 0.12599 0.1312 0.08009 0.1584\n",
      "[19,] 0.12599 0.1312 0.08009 0.1584\n",
      "[20,] 0.12599 0.1312 0.08009 0.1584\n",
      "[21,] 0.12599 0.1312 0.08009 0.1584\n",
      "[22,] 0.12599 0.1312 0.08009 0.1584\n",
      "[23,] 0.12599 0.1312 0.08009 0.1584\n",
      "[24,] 0.12599 0.1312 0.08009 0.1584\n",
      "[25,] 0.12599 0.1312 0.08009 0.1584\n",
      "[26,] 0.12599 0.1312 0.08009 0.1584\n",
      "[27,] 0.12599 0.1312 0.08009 0.1584\n",
      "[28,] 0.12599 0.1312 0.08009 0.1584\n",
      "[29,] 0.12599 0.1312 0.08009 0.1584\n",
      "[30,] 0.12599 0.1312 0.08009 0.1584\n",
      "[31,] 0.12599 0.1312 0.08009 0.1584\n",
      "Root mean square errors of predictions:  \n",
      "         [,1]   [,2]    [,3]   [,4]\n",
      " [1,] 0.09851 0.1091 0.07543 0.1240\n",
      " [2,] 0.14529 0.1387 0.08320 0.1868\n",
      " [3,] 0.12935 0.1340 0.08096 0.1629\n",
      " [4,] 0.12675 0.1325 0.08037 0.1585\n",
      " [5,] 0.12631 0.1318 0.08020 0.1587\n",
      " [6,] 0.12607 0.1314 0.08010 0.1585\n",
      " [7,] 0.12601 0.1313 0.08009 0.1584\n",
      " [8,] 0.12600 0.1312 0.08009 0.1584\n",
      " [9,] 0.12599 0.1312 0.08009 0.1584\n",
      "[10,] 0.12599 0.1312 0.08009 0.1584\n",
      "[11,] 0.12599 0.1312 0.08009 0.1584\n",
      "[12,] 0.12599 0.1312 0.08009 0.1584\n",
      "[13,] 0.12599 0.1312 0.08009 0.1584\n",
      "[14,] 0.12599 0.1312 0.08009 0.1584\n",
      "[15,] 0.12599 0.1312 0.08009 0.1584\n",
      "[16,] 0.12599 0.1312 0.08009 0.1584\n",
      "[17,] 0.12599 0.1312 0.08009 0.1584\n",
      "[18,] 0.12599 0.1312 0.08009 0.1584\n",
      "[19,] 0.12599 0.1312 0.08009 0.1584\n",
      "[20,] 0.12599 0.1312 0.08009 0.1584\n",
      "[21,] 0.12599 0.1312 0.08009 0.1584\n",
      "[22,] 0.12599 0.1312 0.08009 0.1584\n",
      "[23,] 0.12599 0.1312 0.08009 0.1584\n",
      "[24,] 0.12599 0.1312 0.08009 0.1584\n",
      "[25,] 0.12599 0.1312 0.08009 0.1584\n",
      "[26,] 0.12599 0.1312 0.08009 0.1584\n",
      "[27,] 0.12599 0.1312 0.08009 0.1584\n",
      "[28,] 0.12599 0.1312 0.08009 0.1584\n",
      "[29,] 0.12599 0.1312 0.08009 0.1584\n",
      "[30,] 0.12599 0.1312 0.08009 0.1584\n",
      "[31,] 0.12599 0.1312 0.08009 0.1584\n"
     ]
    }
   ],
   "source": [
    "pred_VAR<-VARpred(VARmodel, h = ntest)$pred"
   ]
  },
  {
   "cell_type": "code",
   "execution_count": 32,
   "metadata": {},
   "outputs": [],
   "source": [
    "pred_VAR = pred_VAR*matrix(range_poln.resid,nrow=ntest,ncol=length(range_poln.resid),byrow=TRUE)+matrix(min_poln.resid,nrow=ntest,ncol=length(min_poln.resid),byrow=TRUE)"
   ]
  },
  {
   "cell_type": "code",
   "execution_count": 33,
   "metadata": {},
   "outputs": [
    {
     "data": {
      "text/html": [
       "'MAPE for VAR'"
      ],
      "text/latex": [
       "'MAPE for VAR'"
      ],
      "text/markdown": [
       "'MAPE for VAR'"
      ],
      "text/plain": [
       "[1] \"MAPE for VAR\""
      ]
     },
     "metadata": {},
     "output_type": "display_data"
    },
    {
     "data": {
      "text/html": [
       "<span style=white-space:pre-wrap>'NO2:  0.477897232548698'</span>"
      ],
      "text/latex": [
       "'NO2:  0.477897232548698'"
      ],
      "text/markdown": [
       "<span style=white-space:pre-wrap>'NO2:  0.477897232548698'</span>"
      ],
      "text/plain": [
       "[1] \"NO2:  0.477897232548698\""
      ]
     },
     "metadata": {},
     "output_type": "display_data"
    },
    {
     "data": {
      "text/html": [
       "<span style=white-space:pre-wrap>'O3:  0.397315246397147'</span>"
      ],
      "text/latex": [
       "'O3:  0.397315246397147'"
      ],
      "text/markdown": [
       "<span style=white-space:pre-wrap>'O3:  0.397315246397147'</span>"
      ],
      "text/plain": [
       "[1] \"O3:  0.397315246397147\""
      ]
     },
     "metadata": {},
     "output_type": "display_data"
    },
    {
     "data": {
      "text/html": [
       "<span style=white-space:pre-wrap>'SO2:  2.09355146233239'</span>"
      ],
      "text/latex": [
       "'SO2:  2.09355146233239'"
      ],
      "text/markdown": [
       "<span style=white-space:pre-wrap>'SO2:  2.09355146233239'</span>"
      ],
      "text/plain": [
       "[1] \"SO2:  2.09355146233239\""
      ]
     },
     "metadata": {},
     "output_type": "display_data"
    },
    {
     "data": {
      "text/html": [
       "<span style=white-space:pre-wrap>'CO:  0.402632855328451'</span>"
      ],
      "text/latex": [
       "'CO:  0.402632855328451'"
      ],
      "text/markdown": [
       "<span style=white-space:pre-wrap>'CO:  0.402632855328451'</span>"
      ],
      "text/plain": [
       "[1] \"CO:  0.402632855328451\""
      ]
     },
     "metadata": {},
     "output_type": "display_data"
    }
   ],
   "source": [
    "paste(\"MAPE for VAR\")\n",
    "paste(\"NO2: \", mean(abs((poln_test$NO2_Mean-pred_VAR[,1]-predict(gam.fit2.NO2,pred.input))/poln_test$NO2_Mean)))\n",
    "paste(\"O3: \", mean(abs((poln_test$O3_Mean-pred_VAR[,2]-predict(gam.fit2.O3,pred.input))/poln_test$O3_Mean)))\n",
    "paste(\"SO2: \", mean(abs((poln_test$SO2_Mean-pred_VAR[,3]-predict(gam.fit2.SO2,pred.input))/poln_test$SO2_Mean)))\n",
    "paste(\"CO: \", mean(abs((poln_test$CO_Mean-pred_VAR[,4]-predict(gam.fit2.CO,pred.input))/poln_test$CO_Mean)))"
   ]
  },
  {
   "cell_type": "markdown",
   "metadata": {},
   "source": [
    "## VARX on residuals"
   ]
  },
  {
   "cell_type": "code",
   "execution_count": 34,
   "metadata": {},
   "outputs": [
    {
     "name": "stdout",
     "output_type": "stream",
     "text": [
      "selected order(p,s): aic =  3 9 \n",
      "selected order(p,s): bic =  2 1 \n",
      "selected order(p,s): hq =  2 1 \n"
     ]
    }
   ],
   "source": [
    "VARXorder(poln.resid, temp_train, maxp = 100, maxm = 10, output = T)"
   ]
  },
  {
   "cell_type": "code",
   "execution_count": 35,
   "metadata": {},
   "outputs": [
    {
     "name": "stdout",
     "output_type": "stream",
     "text": [
      "constant term:  \n",
      "est:  0.1445 0.1669 0.1378 0.151 \n",
      " se:  0.0133 0.0148 0.0102 0.0168 \n",
      "AR( 1 ) matrix \n",
      "          NO2_resid O3_resid SO2_resid CO_resid\n",
      "NO2_resid     0.738    0.037     0.137   -0.139\n",
      "O3_resid      0.215    0.530    -0.082    0.022\n",
      "SO2_resid     0.161    0.016     0.193   -0.044\n",
      "CO_resid      0.697   -0.158     0.027    0.244\n",
      "standard errors \n",
      "      [,1]  [,2]  [,3]  [,4]\n",
      "[1,] 0.027 0.021 0.031 0.020\n",
      "[2,] 0.030 0.023 0.035 0.022\n",
      "[3,] 0.021 0.016 0.024 0.015\n",
      "[4,] 0.034 0.027 0.040 0.025\n",
      "AR( 2 ) matrix \n",
      "          NO2_resid O3_resid SO2_resid CO_resid\n",
      "NO2_resid    -0.174    0.042    -0.031    0.013\n",
      "O3_resid     -0.003    0.014    -0.069   -0.013\n",
      "SO2_resid    -0.096    0.009     0.071   -0.013\n",
      "CO_resid     -0.297    0.087    -0.097    0.017\n",
      "standard errors \n",
      "      [,1]  [,2]  [,3]  [,4]\n",
      "[1,] 0.029 0.021 0.032 0.019\n",
      "[2,] 0.032 0.023 0.035 0.021\n",
      "[3,] 0.022 0.016 0.024 0.014\n",
      "[4,] 0.037 0.026 0.040 0.024\n",
      "Coefficients of exogenous \n",
      "lag- 0  coefficient matrix \n",
      "NO2_resid  O3_resid SO2_resid  CO_resid \n",
      "        0         0         0         0 \n",
      "standard errors \n",
      "[1] 0 0 0 0\n",
      "Residual Covariance Matrix \n",
      "          NO2_resid O3_resid SO2_resid CO_resid\n",
      "NO2_resid   0.00962 -0.00241   0.00232  0.00522\n",
      "O3_resid   -0.00241  0.01184   0.00025 -0.00140\n",
      "SO2_resid   0.00232  0.00025   0.00564  0.00150\n",
      "CO_resid    0.00522 -0.00140   0.00150  0.01529\n",
      "=========== \n",
      "Information criteria:  \n",
      "AIC:  -18.77209 \n",
      "BIC:  -18.65605 \n"
     ]
    }
   ],
   "source": [
    "VARXmodel<-VARX(poln.resid, p=2, xt=matrix(temp_train), m=0,, output=F)\n",
    "# VARXmodel$beta\n",
    "# VARXmodel$Phi"
   ]
  },
  {
   "cell_type": "code",
   "execution_count": 36,
   "metadata": {},
   "outputs": [
    {
     "name": "stdout",
     "output_type": "stream",
     "text": [
      "Prediction at origin:  1918 \n",
      "Point forecasts (starting with step 1):  \n",
      "      NO2_resid O3_resid SO2_resid CO_resid\n",
      " [1,]   0.31858  0.46142   0.17193  0.29558\n",
      " [2,]   0.33914  0.46728   0.19287  0.31447\n",
      " [3,]   0.35355  0.47089   0.20308  0.33024\n",
      " [4,]   0.36092  0.47295   0.20690  0.33624\n",
      " [5,]   0.36516  0.47351   0.20884  0.33755\n",
      " [6,]   0.36649  0.47471   0.20889  0.33867\n",
      " [7,]   0.36069  0.47957   0.20463  0.33982\n",
      " [8,]   0.35570  0.48125   0.20279  0.33489\n",
      " [9,]   0.35432  0.48116   0.20247  0.33236\n",
      "[10,]   0.35817  0.47853   0.20528  0.33160\n",
      "[11,]   0.36426  0.47596   0.20844  0.33430\n",
      "[12,]   0.36649  0.47640   0.20874  0.33837\n",
      "[13,]   0.36624  0.47698   0.20846  0.33861\n",
      "[14,]   0.36507  0.47761   0.20769  0.33796\n",
      "[15,]   0.36262  0.47891   0.20622  0.33745\n",
      "[16,]   0.35834  0.48107   0.20379  0.33651\n",
      "[17,]   0.35963  0.47882   0.20572  0.33284\n",
      "[18,]   0.36457  0.47624   0.20838  0.33432\n",
      "[19,]   0.36817  0.47541   0.20985  0.33769\n",
      "[20,]   0.36867  0.47601   0.20965  0.33947\n",
      "[21,]   0.36528  0.47828   0.20733  0.33966\n",
      "[22,]   0.36408  0.47785   0.20741  0.33647\n",
      "[23,]   0.36633  0.47616   0.20890  0.33586\n",
      "[24,]   0.36786  0.47599   0.20936  0.33797\n",
      "[25,]   0.36628  0.47746   0.20810  0.33912\n",
      "[26,]   0.36220  0.47959   0.20576  0.33816\n",
      "[27,]   0.35939  0.48017   0.20472  0.33545\n",
      "[28,]   0.35879  0.47986   0.20471  0.33422\n",
      "[29,]   0.36007  0.47895   0.20563  0.33422\n",
      "[30,]   0.35970  0.47970   0.20502  0.33579\n",
      "[31,]   0.35635  0.48174   0.20295  0.33587\n",
      "Corresponding standard errors:  \n",
      "    NO2_resid O3_resid SO2_resid CO_resid\n",
      "      0.09807  0.10880   0.07512  0.12365\n",
      "se1   0.12040  0.12251   0.07856  0.15392\n",
      "se1   0.12409  0.12754   0.07945  0.15776\n",
      "se1   0.12500  0.12965   0.07970  0.15799\n",
      "se1   0.12534  0.13051   0.07978  0.15819\n",
      "se1   0.12544  0.13085   0.07979  0.15824\n",
      "se1   0.12547  0.13099   0.07979  0.15825\n",
      "se1   0.12548  0.13105   0.07979  0.15825\n",
      "se1   0.12549  0.13107   0.07979  0.15825\n",
      "se1   0.12549  0.13108   0.07979  0.15826\n",
      "se1   0.12549  0.13109   0.07979  0.15826\n",
      "se1   0.12549  0.13109   0.07979  0.15826\n",
      "se1   0.12549  0.13109   0.07979  0.15826\n",
      "se1   0.12549  0.13109   0.07979  0.15826\n",
      "se1   0.12549  0.13109   0.07979  0.15826\n",
      "se1   0.12549  0.13109   0.07979  0.15826\n",
      "se1   0.12549  0.13109   0.07979  0.15826\n",
      "se1   0.12549  0.13109   0.07979  0.15826\n",
      "se1   0.12549  0.13109   0.07979  0.15826\n",
      "se1   0.12549  0.13109   0.07979  0.15826\n",
      "se1   0.12549  0.13109   0.07979  0.15826\n",
      "se1   0.12549  0.13109   0.07979  0.15826\n",
      "se1   0.12549  0.13109   0.07979  0.15826\n",
      "se1   0.12549  0.13109   0.07979  0.15826\n",
      "se1   0.12549  0.13109   0.07979  0.15826\n",
      "se1   0.12549  0.13109   0.07979  0.15826\n",
      "se1   0.12549  0.13109   0.07979  0.15826\n",
      "se1   0.12549  0.13109   0.07979  0.15826\n",
      "se1   0.12549  0.13109   0.07979  0.15826\n",
      "se1   0.12549  0.13109   0.07979  0.15826\n",
      "se1   0.12549  0.13109   0.07979  0.15826\n"
     ]
    }
   ],
   "source": [
    "pred_VARX<-VARXpred(VARXmodel, newxt=matrix(temp_test), hstep = ntest)$pred"
   ]
  },
  {
   "cell_type": "code",
   "execution_count": 37,
   "metadata": {},
   "outputs": [],
   "source": [
    "pred_VARX = pred_VARX*matrix(range_poln.resid,nrow=ntest,ncol=length(range_poln.resid),byrow=TRUE)+matrix(min_poln.resid,nrow=ntest,ncol=length(min_poln.resid),byrow=TRUE)"
   ]
  },
  {
   "cell_type": "code",
   "execution_count": 38,
   "metadata": {},
   "outputs": [
    {
     "data": {
      "text/html": [
       "'MAPE for VARX'"
      ],
      "text/latex": [
       "'MAPE for VARX'"
      ],
      "text/markdown": [
       "'MAPE for VARX'"
      ],
      "text/plain": [
       "[1] \"MAPE for VARX\""
      ]
     },
     "metadata": {},
     "output_type": "display_data"
    },
    {
     "data": {
      "text/html": [
       "<span style=white-space:pre-wrap>'NO2:  0.504475474824026'</span>"
      ],
      "text/latex": [
       "'NO2:  0.504475474824026'"
      ],
      "text/markdown": [
       "<span style=white-space:pre-wrap>'NO2:  0.504475474824026'</span>"
      ],
      "text/plain": [
       "[1] \"NO2:  0.504475474824026\""
      ]
     },
     "metadata": {},
     "output_type": "display_data"
    },
    {
     "data": {
      "text/html": [
       "<span style=white-space:pre-wrap>'O3:  0.4000884973614'</span>"
      ],
      "text/latex": [
       "'O3:  0.4000884973614'"
      ],
      "text/markdown": [
       "<span style=white-space:pre-wrap>'O3:  0.4000884973614'</span>"
      ],
      "text/plain": [
       "[1] \"O3:  0.4000884973614\""
      ]
     },
     "metadata": {},
     "output_type": "display_data"
    },
    {
     "data": {
      "text/html": [
       "<span style=white-space:pre-wrap>'SO2:  2.31225533614493'</span>"
      ],
      "text/latex": [
       "'SO2:  2.31225533614493'"
      ],
      "text/markdown": [
       "<span style=white-space:pre-wrap>'SO2:  2.31225533614493'</span>"
      ],
      "text/plain": [
       "[1] \"SO2:  2.31225533614493\""
      ]
     },
     "metadata": {},
     "output_type": "display_data"
    },
    {
     "data": {
      "text/html": [
       "<span style=white-space:pre-wrap>'CO:  0.411616547296058'</span>"
      ],
      "text/latex": [
       "'CO:  0.411616547296058'"
      ],
      "text/markdown": [
       "<span style=white-space:pre-wrap>'CO:  0.411616547296058'</span>"
      ],
      "text/plain": [
       "[1] \"CO:  0.411616547296058\""
      ]
     },
     "metadata": {},
     "output_type": "display_data"
    }
   ],
   "source": [
    "paste(\"MAPE for VARX\")\n",
    "paste(\"NO2: \", mean(abs((poln_test$NO2_Mean-pred_VARX[,1]-predict(gam.fit2.NO2,pred.input))/poln_test$NO2_Mean)))\n",
    "paste(\"O3: \", mean(abs((poln_test$O3_Mean-pred_VARX[,2]-predict(gam.fit2.O3,pred.input))/poln_test$O3_Mean)))\n",
    "paste(\"SO2: \", mean(abs((poln_test$SO2_Mean-pred_VARX[,3]-predict(gam.fit2.SO2,pred.input))/poln_test$SO2_Mean)))\n",
    "paste(\"CO: \", mean(abs((poln_test$CO_Mean-pred_VARX[,4]-predict(gam.fit2.CO,pred.input))/poln_test$CO_Mean)))"
   ]
  },
  {
   "cell_type": "markdown",
   "metadata": {},
   "source": [
    "## VARMA"
   ]
  },
  {
   "cell_type": "code",
   "execution_count": 39,
   "metadata": {},
   "outputs": [
    {
     "name": "stdout",
     "output_type": "stream",
     "text": [
      "Number of parameters:  68 \n",
      "initial estimates:  0.0812 -0.0638 0.2999 0.4292 1.2426 0.4002 0.2821 -0.6098 -0.3094 -0.2443 -0.2253 0.1691 1.5863 0.7758 0.3108 -0.3435 -0.6545 -0.2324 -0.5371 0.3741 -0.4237 -0.138 -0.1028 -0.279 0.219 0.1463 0.5753 -0.1141 1.8107 -1.102 -1.4705 -0.0227 -0.4539 0.4012 0.1444 0.1319 -0.5049 -0.364 -0.1353 0.4691 -0.0111 0.004 0.1421 0.024 -1.3774 -0.251 -0.3918 0.3658 -0.2361 -0.0187 0.2283 -0.0786 0.5876 0.1582 0.2972 0.2404 0.3729 -0.0553 -0.3768 0.0499 -1.1126 0.9457 1.508 0.2808 -0.0234 0.1664 -0.1888 0.0346 \n",
      "Par. lower-bounds:  -0.2016 -0.377 0.0843 0.0747 -0.5927 -0.9174 -0.8217 -1.3581 -0.8837 -0.8407 -0.9355 -0.2786 -0.4475 -0.6843 -0.9123 -1.1728 -1.291 -0.8933 -1.3241 -0.122 -1.8234 -1.1428 -0.9446 -0.8498 -0.219 -0.3085 0.0336 -0.4555 -0.4903 -2.7539 -2.8543 -0.9609 -1.1739 -0.3465 -0.746 -0.4293 -2.3413 -1.6817 -1.241 -0.2797 -0.3164 -0.0952 -0.3141 -0.1518 -3.4122 -1.7113 -1.617 -0.4639 -0.5744 -0.1287 -0.2772 -0.2734 -0.8129 -0.8468 -0.546 -0.3307 0.14 -0.1309 -0.7248 -0.0842 -3.4148 -0.7064 0.1218 -0.6579 -0.4062 0.042 -0.7608 -0.1859 \n",
      "Par. upper-bounds:  0.3639 0.2495 0.5155 0.7836 3.078 1.7178 1.3859 0.1386 0.265 0.3521 0.485 0.6167 3.6201 2.2359 1.534 0.4858 -0.0181 0.4284 0.25 0.8702 0.976 0.8669 0.739 0.2917 0.6571 0.6011 1.117 0.2273 4.1117 0.5499 -0.0866 0.9156 0.2662 1.1489 1.0349 0.6931 1.3314 0.9538 0.9703 1.2178 0.2942 0.1032 0.5983 0.1999 0.6575 1.2093 0.8334 1.1955 0.1022 0.0912 0.7338 0.1163 1.988 1.1632 1.1404 0.8114 0.6057 0.0204 -0.0289 0.184 1.1897 2.5979 2.8941 1.2196 0.3593 0.2908 0.3831 0.255 \n",
      "Final   Estimates:  0.08116148 -0.06375437 0.2998977 0.4291743 1.242626 0.4002012 0.2820781 -0.6097704 -0.3093819 -0.2442818 -0.2252795 0.1690856 1.586265 0.7757676 0.3108491 -0.3434724 -0.6545456 -0.2324396 -0.5370767 0.3740897 -0.4236956 -0.1379636 -0.1027741 -0.2790436 0.2190255 0.1462757 0.5753143 -0.114118 1.810692 -1.102005 -1.470451 -0.02268829 -0.4538568 0.4012105 0.144418 0.1318971 -0.50493 -0.3639684 -0.1353341 0.469077 -0.01106684 0.004002311 0.1421338 0.02404787 -1.377354 -0.2510217 -0.3917891 0.365799 -0.2360923 -0.01872682 0.2283064 -0.07856731 0.5875748 0.1581665 0.2972155 0.2403635 0.3728652 -0.05525915 -0.376846 0.04989734 -1.112561 0.945744 1.507966 0.2808226 -0.02344066 0.166408 -0.1888414 0.03455916 \n",
      "\n",
      "Coefficient(s):\n",
      "           Estimate  Std. Error  t value Pr(>|t|)\n",
      "NO2_resid  0.081161          NA       NA       NA\n",
      "O3_resid  -0.063754          NA       NA       NA\n",
      "SO2_resid  0.299898          NA       NA       NA\n",
      "CO_resid   0.429174          NA       NA       NA\n",
      "NO2_resid  1.242626          NA       NA       NA\n",
      "O3_resid   0.400201          NA       NA       NA\n",
      "SO2_resid  0.282078          NA       NA       NA\n",
      "CO_resid  -0.609770          NA       NA       NA\n",
      "NO2_resid -0.309382          NA       NA       NA\n",
      "O3_resid  -0.244282          NA       NA       NA\n",
      "SO2_resid -0.225280          NA       NA       NA\n",
      "CO_resid   0.169086          NA       NA       NA\n",
      "NO2_resid  1.586265          NA       NA       NA\n",
      "O3_resid   0.775768          NA       NA       NA\n",
      "SO2_resid  0.310849          NA       NA       NA\n",
      "CO_resid  -0.343472          NA       NA       NA\n",
      "NO2_resid -0.654546          NA       NA       NA\n",
      "O3_resid  -0.232440          NA       NA       NA\n",
      "SO2_resid -0.537077          NA       NA       NA\n",
      "CO_resid   0.374090          NA       NA       NA\n",
      "NO2_resid -0.423696          NA       NA       NA\n",
      "O3_resid  -0.137964          NA       NA       NA\n",
      "SO2_resid -0.102774          NA       NA       NA\n",
      "CO_resid  -0.279044          NA       NA       NA\n",
      "NO2_resid  0.219025          NA       NA       NA\n",
      "O3_resid   0.146276          NA       NA       NA\n",
      "SO2_resid  0.575314          NA       NA       NA\n",
      "CO_resid  -0.114118          NA       NA       NA\n",
      "NO2_resid  1.810692          NA       NA       NA\n",
      "O3_resid  -1.102005          NA       NA       NA\n",
      "SO2_resid -1.470451          NA       NA       NA\n",
      "CO_resid  -0.022688          NA       NA       NA\n",
      "NO2_resid -0.453857          NA       NA       NA\n",
      "O3_resid   0.401210          NA       NA       NA\n",
      "SO2_resid  0.144418          NA       NA       NA\n",
      "CO_resid   0.131897          NA       NA       NA\n",
      "          -0.504930          NA       NA       NA\n",
      "          -0.363968          NA       NA       NA\n",
      "          -0.135334          NA       NA       NA\n",
      "           0.469077          NA       NA       NA\n",
      "          -0.011067          NA       NA       NA\n",
      "           0.004002          NA       NA       NA\n",
      "           0.142134          NA       NA       NA\n",
      "           0.024048          NA       NA       NA\n",
      "          -1.377354          NA       NA       NA\n",
      "          -0.251022          NA       NA       NA\n",
      "          -0.391789          NA       NA       NA\n",
      "           0.365799          NA       NA       NA\n",
      "          -0.236092          NA       NA       NA\n",
      "          -0.018727          NA       NA       NA\n",
      "           0.228306          NA       NA       NA\n",
      "          -0.078567          NA       NA       NA\n",
      "           0.587575          NA       NA       NA\n",
      "           0.158166          NA       NA       NA\n",
      "           0.297215          NA       NA       NA\n",
      "           0.240364          NA       NA       NA\n",
      "           0.372865          NA       NA       NA\n",
      "          -0.055259          NA       NA       NA\n",
      "          -0.376846          NA       NA       NA\n",
      "           0.049897          NA       NA       NA\n",
      "          -1.112561          NA       NA       NA\n",
      "           0.945744          NA       NA       NA\n",
      "           1.507966          NA       NA       NA\n",
      "           0.280823          NA       NA       NA\n",
      "          -0.023441          NA       NA       NA\n",
      "           0.166408          NA       NA       NA\n",
      "          -0.188841          NA       NA       NA\n",
      "           0.034559          NA       NA       NA\n",
      "--- \n",
      "Estimates in matrix form: \n",
      "Constant term:  \n",
      "Estimates:  0.08116148 -0.06375437 0.2998977 0.4291743 \n",
      "AR coefficient matrix \n",
      "AR( 1 )-matrix \n",
      "       [,1]   [,2]   [,3]    [,4]\n",
      "[1,]  1.243  0.400  0.282 -0.6098\n",
      "[2,]  1.586  0.776  0.311 -0.3435\n",
      "[3,] -0.424 -0.138 -0.103 -0.2790\n",
      "[4,]  1.811 -1.102 -1.470 -0.0227\n",
      "AR( 2 )-matrix \n",
      "       [,1]   [,2]   [,3]   [,4]\n",
      "[1,] -0.309 -0.244 -0.225  0.169\n",
      "[2,] -0.655 -0.232 -0.537  0.374\n",
      "[3,]  0.219  0.146  0.575 -0.114\n",
      "[4,] -0.454  0.401  0.144  0.132\n",
      "MA coefficient matrix \n",
      "MA( 1 )-matrix \n",
      "       [,1]   [,2]   [,3]   [,4]\n",
      "[1,]  0.505  0.364  0.135 -0.469\n",
      "[2,]  1.377  0.251  0.392 -0.366\n",
      "[3,] -0.588 -0.158 -0.297 -0.240\n",
      "[4,]  1.113 -0.946 -1.508 -0.281\n",
      "MA( 2 )-matrix \n",
      "        [,1]    [,2]   [,3]    [,4]\n",
      "[1,]  0.0111 -0.0040 -0.142 -0.0240\n",
      "[2,]  0.2361  0.0187 -0.228  0.0786\n",
      "[3,] -0.3729  0.0553  0.377 -0.0499\n",
      "[4,]  0.0234 -0.1664  0.189 -0.0346\n",
      "  \n",
      "Residuals cov-matrix: \n",
      "             [,1]          [,2]          [,3]         [,4]\n",
      "[1,]  0.009866341 -0.0021589053  0.0021804552  0.005457295\n",
      "[2,] -0.002158905  0.0124342858 -0.0003200095 -0.001422217\n",
      "[3,]  0.002180455 -0.0003200095  0.0063465841  0.001762831\n",
      "[4,]  0.005457295 -0.0014222168  0.0017628312  0.015973460\n",
      "---- \n",
      "aic=  -18.46366 \n",
      "bic=  -18.26657 \n"
     ]
    }
   ],
   "source": [
    "VARMAmodel<-VARMACpp(poln.resid, p=2, q=2)"
   ]
  },
  {
   "cell_type": "code",
   "execution_count": 40,
   "metadata": {},
   "outputs": [
    {
     "name": "stdout",
     "output_type": "stream",
     "text": [
      "Predictions at origin  1918 \n",
      "      NO2_resid O3_resid SO2_resid CO_resid\n",
      " [1,]    0.3054   0.4821    0.1441   0.2739\n",
      " [2,]    0.3302   0.4835    0.1906   0.3312\n",
      " [3,]    0.3384   0.4937    0.1703   0.3183\n",
      " [4,]    0.3461   0.4927    0.1970   0.3555\n",
      " [5,]    0.3373   0.4979    0.1739   0.3261\n",
      " [6,]    0.3380   0.4857    0.2001   0.3442\n",
      " [7,]    0.3322   0.4853    0.1826   0.3188\n",
      " [8,]    0.3352   0.4741    0.2054   0.3358\n",
      " [9,]    0.3320   0.4751    0.1901   0.3164\n",
      "[10,]    0.3355   0.4676    0.2085   0.3320\n",
      "[11,]    0.3335   0.4705    0.1946   0.3165\n",
      "[12,]    0.3369   0.4660    0.2093   0.3304\n",
      "[13,]    0.3355   0.4700    0.1969   0.3177\n",
      "[14,]    0.3386   0.4674    0.2087   0.3298\n",
      "[15,]    0.3374   0.4718    0.1977   0.3194\n",
      "[16,]    0.3401   0.4703    0.2073   0.3298\n",
      "[17,]    0.3392   0.4745    0.1978   0.3212\n",
      "[18,]    0.3415   0.4737    0.2057   0.3301\n",
      "[19,]    0.3407   0.4776    0.1975   0.3229\n",
      "[20,]    0.3426   0.4770    0.2040   0.3304\n",
      "[21,]    0.3419   0.4804    0.1970   0.3244\n",
      "[22,]    0.3434   0.4799    0.2025   0.3307\n",
      "[23,]    0.3427   0.4827    0.1966   0.3256\n",
      "[24,]    0.3440   0.4823    0.2012   0.3310\n",
      "[25,]    0.3434   0.4846    0.1962   0.3266\n",
      "[26,]    0.3444   0.4842    0.2001   0.3311\n",
      "[27,]    0.3439   0.4861    0.1959   0.3274\n",
      "[28,]    0.3447   0.4856    0.1993   0.3312\n",
      "[29,]    0.3442   0.4871    0.1957   0.3280\n",
      "[30,]    0.3448   0.4867    0.1986   0.3312\n",
      "[31,]    0.3444   0.4878    0.1956   0.3285\n",
      "Standard errors of predictions \n",
      "         [,1]   [,2]    [,3]   [,4]\n",
      " [1,] 0.09933 0.1115 0.07967 0.1264\n",
      " [2,] 0.12193 0.1258 0.08312 0.1577\n",
      " [3,] 0.12574 0.1305 0.08416 0.1614\n",
      " [4,] 0.12635 0.1328 0.08452 0.1615\n",
      " [5,] 0.12659 0.1335 0.08468 0.1618\n",
      " [6,] 0.12679 0.1340 0.08488 0.1619\n",
      " [7,] 0.12706 0.1345 0.08502 0.1620\n",
      " [8,] 0.12740 0.1352 0.08509 0.1621\n",
      " [9,] 0.12774 0.1361 0.08523 0.1621\n",
      "[10,] 0.12806 0.1371 0.08534 0.1622\n",
      "[11,] 0.12833 0.1383 0.08554 0.1623\n",
      "[12,] 0.12857 0.1394 0.08571 0.1624\n",
      "[13,] 0.12876 0.1405 0.08593 0.1625\n",
      "[14,] 0.12891 0.1415 0.08612 0.1626\n",
      "[15,] 0.12903 0.1424 0.08633 0.1627\n",
      "[16,] 0.12911 0.1431 0.08648 0.1628\n",
      "[17,] 0.12918 0.1437 0.08664 0.1628\n",
      "[18,] 0.12923 0.1442 0.08676 0.1629\n",
      "[19,] 0.12926 0.1446 0.08687 0.1629\n",
      "[20,] 0.12928 0.1449 0.08694 0.1629\n",
      "[21,] 0.12930 0.1451 0.08701 0.1629\n",
      "[22,] 0.12931 0.1453 0.08706 0.1630\n",
      "[23,] 0.12932 0.1454 0.08709 0.1630\n",
      "[24,] 0.12932 0.1455 0.08712 0.1630\n",
      "[25,] 0.12933 0.1455 0.08714 0.1630\n",
      "[26,] 0.12933 0.1456 0.08715 0.1630\n",
      "[27,] 0.12933 0.1456 0.08716 0.1630\n",
      "[28,] 0.12933 0.1456 0.08717 0.1630\n",
      "[29,] 0.12933 0.1456 0.08717 0.1630\n",
      "[30,] 0.12933 0.1456 0.08718 0.1630\n",
      "[31,] 0.12933 0.1456 0.08718 0.1630\n"
     ]
    }
   ],
   "source": [
    "pred_VARMA<-VARMApred(VARMAmodel, h = ntest)$pred"
   ]
  },
  {
   "cell_type": "code",
   "execution_count": 41,
   "metadata": {},
   "outputs": [],
   "source": [
    "pred_VARMA = pred_VARMA*matrix(range_poln.resid,nrow=ntest,ncol=length(range_poln.resid),byrow=TRUE)+matrix(min_poln.resid,nrow=ntest,ncol=length(min_poln.resid),byrow=TRUE)"
   ]
  },
  {
   "cell_type": "code",
   "execution_count": 42,
   "metadata": {},
   "outputs": [
    {
     "data": {
      "text/html": [
       "'MAPE for VARMA'"
      ],
      "text/latex": [
       "'MAPE for VARMA'"
      ],
      "text/markdown": [
       "'MAPE for VARMA'"
      ],
      "text/plain": [
       "[1] \"MAPE for VARMA\""
      ]
     },
     "metadata": {},
     "output_type": "display_data"
    },
    {
     "data": {
      "text/html": [
       "<span style=white-space:pre-wrap>'NO2:  0.47001679966576'</span>"
      ],
      "text/latex": [
       "'NO2:  0.47001679966576'"
      ],
      "text/markdown": [
       "<span style=white-space:pre-wrap>'NO2:  0.47001679966576'</span>"
      ],
      "text/plain": [
       "[1] \"NO2:  0.47001679966576\""
      ]
     },
     "metadata": {},
     "output_type": "display_data"
    },
    {
     "data": {
      "text/html": [
       "<span style=white-space:pre-wrap>'O3:  0.394061721864025'</span>"
      ],
      "text/latex": [
       "'O3:  0.394061721864025'"
      ],
      "text/markdown": [
       "<span style=white-space:pre-wrap>'O3:  0.394061721864025'</span>"
      ],
      "text/plain": [
       "[1] \"O3:  0.394061721864025\""
      ]
     },
     "metadata": {},
     "output_type": "display_data"
    },
    {
     "data": {
      "text/html": [
       "<span style=white-space:pre-wrap>'SO2:  2.07442353162894'</span>"
      ],
      "text/latex": [
       "'SO2:  2.07442353162894'"
      ],
      "text/markdown": [
       "<span style=white-space:pre-wrap>'SO2:  2.07442353162894'</span>"
      ],
      "text/plain": [
       "[1] \"SO2:  2.07442353162894\""
      ]
     },
     "metadata": {},
     "output_type": "display_data"
    },
    {
     "data": {
      "text/html": [
       "<span style=white-space:pre-wrap>'CO:  0.40141739177351'</span>"
      ],
      "text/latex": [
       "'CO:  0.40141739177351'"
      ],
      "text/markdown": [
       "<span style=white-space:pre-wrap>'CO:  0.40141739177351'</span>"
      ],
      "text/plain": [
       "[1] \"CO:  0.40141739177351\""
      ]
     },
     "metadata": {},
     "output_type": "display_data"
    }
   ],
   "source": [
    "paste(\"MAPE for VARMA\")\n",
    "paste(\"NO2: \", mean(abs((poln_test$NO2_Mean-pred_VARMA[,1]-predict(gam.fit2.NO2,pred.input))/poln_test$NO2_Mean)))\n",
    "paste(\"O3: \", mean(abs((poln_test$O3_Mean-pred_VARMA[,2]-predict(gam.fit2.O3,pred.input))/poln_test$O3_Mean)))\n",
    "paste(\"SO2: \", mean(abs((poln_test$SO2_Mean-pred_VARMA[,3]-predict(gam.fit2.SO2,pred.input))/poln_test$SO2_Mean)))\n",
    "paste(\"CO: \", mean(abs((poln_test$CO_Mean-pred_VARMA[,4]-predict(gam.fit2.CO,pred.input))/poln_test$CO_Mean)))"
   ]
  },
  {
   "cell_type": "markdown",
   "metadata": {},
   "source": [
    "## Multivariate GARCH"
   ]
  },
  {
   "cell_type": "code",
   "execution_count": 43,
   "metadata": {},
   "outputs": [
    {
     "name": "stderr",
     "output_type": "stream",
     "text": [
      "Warning message:\n",
      "\"package 'rmgarch' was built under R version 3.6.3\"Loading required package: rugarch\n",
      "Warning message:\n",
      "\"package 'rugarch' was built under R version 3.6.3\"Loading required package: parallel\n",
      "\n",
      "Attaching package: 'rugarch'\n",
      "\n",
      "The following object is masked from 'package:stats':\n",
      "\n",
      "    sigma\n",
      "\n"
     ]
    }
   ],
   "source": [
    "library(rmgarch)"
   ]
  },
  {
   "cell_type": "code",
   "execution_count": 44,
   "metadata": {},
   "outputs": [],
   "source": [
    "mgarchspec<-gogarchspec(mean.model = list(model = c(\"VAR\"), robust = FALSE, lag = 4, robust = TRUE,\n",
    "            external.regressors = NULL),\n",
    "            variance.model = list(model = \"sGARCH\", garchOrder = c(1,1), submodel = NULL, variance.targeting = FALSE))"
   ]
  },
  {
   "cell_type": "code",
   "execution_count": 45,
   "metadata": {},
   "outputs": [],
   "source": [
    "mgarchfit<-gogarchfit(mgarchspec, poln.resid)"
   ]
  },
  {
   "cell_type": "code",
   "execution_count": 46,
   "metadata": {},
   "outputs": [],
   "source": [
    "mgarchforecast<-fitted(gogarchforecast(mgarchfit, n.ahead = ntest))[,,1]\n",
    "mgarchforecast<-mgarchforecast*matrix(range_poln.resid,nrow=ntest,ncol=length(range_poln.resid),byrow=TRUE)+matrix(min_poln.resid,nrow=ntest,ncol=length(min_poln.resid),byrow=TRUE)"
   ]
  },
  {
   "cell_type": "code",
   "execution_count": 47,
   "metadata": {},
   "outputs": [],
   "source": [
    "mgarchsigma<-sigma(gogarchforecast(mgarchfit, n.ahead = ntest))[,,1]"
   ]
  },
  {
   "cell_type": "code",
   "execution_count": 48,
   "metadata": {},
   "outputs": [
    {
     "data": {
      "text/html": [
       "'MAPE for M-GARCH'"
      ],
      "text/latex": [
       "'MAPE for M-GARCH'"
      ],
      "text/markdown": [
       "'MAPE for M-GARCH'"
      ],
      "text/plain": [
       "[1] \"MAPE for M-GARCH\""
      ]
     },
     "metadata": {},
     "output_type": "display_data"
    },
    {
     "data": {
      "text/html": [
       "<span style=white-space:pre-wrap>'NO2:  0.456839509468176'</span>"
      ],
      "text/latex": [
       "'NO2:  0.456839509468176'"
      ],
      "text/markdown": [
       "<span style=white-space:pre-wrap>'NO2:  0.456839509468176'</span>"
      ],
      "text/plain": [
       "[1] \"NO2:  0.456839509468176\""
      ]
     },
     "metadata": {},
     "output_type": "display_data"
    },
    {
     "data": {
      "text/html": [
       "<span style=white-space:pre-wrap>'O3:  0.395415788079797'</span>"
      ],
      "text/latex": [
       "'O3:  0.395415788079797'"
      ],
      "text/markdown": [
       "<span style=white-space:pre-wrap>'O3:  0.395415788079797'</span>"
      ],
      "text/plain": [
       "[1] \"O3:  0.395415788079797\""
      ]
     },
     "metadata": {},
     "output_type": "display_data"
    },
    {
     "data": {
      "text/html": [
       "<span style=white-space:pre-wrap>'SO2:  1.59406394801773'</span>"
      ],
      "text/latex": [
       "'SO2:  1.59406394801773'"
      ],
      "text/markdown": [
       "<span style=white-space:pre-wrap>'SO2:  1.59406394801773'</span>"
      ],
      "text/plain": [
       "[1] \"SO2:  1.59406394801773\""
      ]
     },
     "metadata": {},
     "output_type": "display_data"
    },
    {
     "data": {
      "text/html": [
       "<span style=white-space:pre-wrap>'CO:  0.382093771264275'</span>"
      ],
      "text/latex": [
       "'CO:  0.382093771264275'"
      ],
      "text/markdown": [
       "<span style=white-space:pre-wrap>'CO:  0.382093771264275'</span>"
      ],
      "text/plain": [
       "[1] \"CO:  0.382093771264275\""
      ]
     },
     "metadata": {},
     "output_type": "display_data"
    }
   ],
   "source": [
    "paste(\"MAPE for M-GARCH\")\n",
    "paste(\"NO2: \", mean(abs((poln_test$NO2_Mean-mgarchforecast[,1]-predict(gam.fit2.NO2,pred.input))/poln_test$NO2_Mean)))\n",
    "paste(\"O3: \", mean(abs((poln_test$O3_Mean-mgarchforecast[,2]-predict(gam.fit2.O3,pred.input))/poln_test$O3_Mean)))\n",
    "paste(\"SO2: \", mean(abs((poln_test$SO2_Mean-mgarchforecast[,3]-predict(gam.fit2.SO2,pred.input))/poln_test$SO2_Mean)))\n",
    "paste(\"CO: \", mean(abs((poln_test$CO_Mean-mgarchforecast[,4]-predict(gam.fit2.CO,pred.input))/poln_test$CO_Mean)))"
   ]
  },
  {
   "cell_type": "markdown",
   "metadata": {},
   "source": [
    "## Multivariate GARCH with exogenous variable (temperature)"
   ]
  },
  {
   "cell_type": "code",
   "execution_count": 49,
   "metadata": {},
   "outputs": [],
   "source": [
    "mgarchspecX<-gogarchspec(mean.model = list(model = c(\"VAR\"), robust = FALSE, lag = 5, robust = TRUE,\n",
    "            external.regressors = matrix(temp_train)),\n",
    "            variance.model = list(model = \"sGARCH\", garchOrder = c(1,1), submodel = NULL, variance.targeting = FALSE))"
   ]
  },
  {
   "cell_type": "code",
   "execution_count": 50,
   "metadata": {},
   "outputs": [],
   "source": [
    "mgarchfitX<-gogarchfit(mgarchspecX, poln.resid)"
   ]
  },
  {
   "cell_type": "code",
   "execution_count": 51,
   "metadata": {},
   "outputs": [],
   "source": [
    "mgarchXforecast<-fitted(gogarchforecast(mgarchfitX, n.ahead = ntest, external.forecasts = list(mregfor = matrix(temp_train))))[,,1]\n",
    "mgarchXforecast<-mgarchXforecast*matrix(range_poln.resid,nrow=ntest,ncol=length(range_poln.resid),byrow=TRUE)+matrix(min_poln.resid,nrow=ntest,ncol=length(min_poln.resid),byrow=TRUE)"
   ]
  },
  {
   "cell_type": "code",
   "execution_count": 52,
   "metadata": {},
   "outputs": [
    {
     "data": {
      "text/html": [
       "'MAPE for M-GARCHX'"
      ],
      "text/latex": [
       "'MAPE for M-GARCHX'"
      ],
      "text/markdown": [
       "'MAPE for M-GARCHX'"
      ],
      "text/plain": [
       "[1] \"MAPE for M-GARCHX\""
      ]
     },
     "metadata": {},
     "output_type": "display_data"
    },
    {
     "data": {
      "text/html": [
       "<span style=white-space:pre-wrap>'NO2:  0.467439293029305'</span>"
      ],
      "text/latex": [
       "'NO2:  0.467439293029305'"
      ],
      "text/markdown": [
       "<span style=white-space:pre-wrap>'NO2:  0.467439293029305'</span>"
      ],
      "text/plain": [
       "[1] \"NO2:  0.467439293029305\""
      ]
     },
     "metadata": {},
     "output_type": "display_data"
    },
    {
     "data": {
      "text/html": [
       "<span style=white-space:pre-wrap>'O3:  0.393812942459392'</span>"
      ],
      "text/latex": [
       "'O3:  0.393812942459392'"
      ],
      "text/markdown": [
       "<span style=white-space:pre-wrap>'O3:  0.393812942459392'</span>"
      ],
      "text/plain": [
       "[1] \"O3:  0.393812942459392\""
      ]
     },
     "metadata": {},
     "output_type": "display_data"
    },
    {
     "data": {
      "text/html": [
       "<span style=white-space:pre-wrap>'SO2:  1.60098725330824'</span>"
      ],
      "text/latex": [
       "'SO2:  1.60098725330824'"
      ],
      "text/markdown": [
       "<span style=white-space:pre-wrap>'SO2:  1.60098725330824'</span>"
      ],
      "text/plain": [
       "[1] \"SO2:  1.60098725330824\""
      ]
     },
     "metadata": {},
     "output_type": "display_data"
    },
    {
     "data": {
      "text/html": [
       "<span style=white-space:pre-wrap>'CO:  0.372710932407938'</span>"
      ],
      "text/latex": [
       "'CO:  0.372710932407938'"
      ],
      "text/markdown": [
       "<span style=white-space:pre-wrap>'CO:  0.372710932407938'</span>"
      ],
      "text/plain": [
       "[1] \"CO:  0.372710932407938\""
      ]
     },
     "metadata": {},
     "output_type": "display_data"
    }
   ],
   "source": [
    "paste(\"MAPE for M-GARCHX\")\n",
    "paste(\"NO2: \", mean(abs((poln_test$NO2_Mean-mgarchXforecast[,1]-predict(gam.fit2.NO2,pred.input))/poln_test$NO2_Mean)))\n",
    "paste(\"O3: \", mean(abs((poln_test$O3_Mean-mgarchXforecast[,2]-predict(gam.fit2.O3,pred.input))/poln_test$O3_Mean)))\n",
    "paste(\"SO2: \", mean(abs((poln_test$SO2_Mean-mgarchXforecast[,3]-predict(gam.fit2.SO2,pred.input))/poln_test$SO2_Mean)))\n",
    "paste(\"CO: \", mean(abs((poln_test$CO_Mean-mgarchXforecast[,4]-predict(gam.fit2.CO,pred.input))/poln_test$CO_Mean)))"
   ]
  },
  {
   "cell_type": "markdown",
   "metadata": {},
   "source": [
    "### Forecast"
   ]
  },
  {
   "cell_type": "code",
   "execution_count": 53,
   "metadata": {},
   "outputs": [],
   "source": [
    "armaforecast<-read.csv(\"arma_pred.csv\", header=T)\n",
    "armaXforecast<-read.csv(\"armaX_pred.csv\", header=T)"
   ]
  },
  {
   "cell_type": "code",
   "execution_count": 54,
   "metadata": {},
   "outputs": [
    {
     "data": {
      "image/png": "[encoded data removed]",
      "text/plain": [
       "plot without title"
      ]
     },
     "metadata": {},
     "output_type": "display_data"
    }
   ],
   "source": [
    "options(repr.plot.width=5, repr.plot.height=7)\n",
    "par(mfrow=c(4,1), mar=c(2,4,1.5,1))\n",
    "plot(1:N,ts(poln1[1:N,3]),type='l',xlim=c(1500,1950),ylab=\"NO2\")\n",
    "abline(v=1918)\n",
    "lines((n+1):N,armaforecast[,1]+predict(gam.fit2.NO2,pred.input),col=\"green\",lwd=2,type='l')\n",
    "lines((n+1):N,pred_VAR[,1]+predict(gam.fit2.NO2,pred.input),col=\"blue\",lwd=2,type='l')\n",
    "lines((n+1):N,pred_VARMA[,1]+predict(gam.fit2.NO2,pred.input),col=\"red\",lwd=2,type='l')\n",
    "lines((n+1):N,mgarchXforecast[,1]+predict(gam.fit2.NO2,pred.input),col=\"yellow\",lwd=2,type='l')\n",
    "legend(1490, 40, legend=c(\"ARMA\", \"VAR\", \"VARMA\", \"mGARCHX\"), col=c(\"green\", \"blue\", \"red\", \"yellow\"), lty=1:2, cex=0.8,box.lty=0)\n",
    "\n",
    "plot(1:N,ts(poln1[1:N,5]),type='l',xlim=c(1500,1950),ylab=\"O3\")\n",
    "abline(v=1918)\n",
    "lines((n+1):N,armaforecast[,2]+predict(gam.fit2.O3,pred.input),col=\"green\",lwd=2,type='l')\n",
    "lines((n+1):N,pred_VAR[,2]+predict(gam.fit2.O3,pred.input),col=\"blue\",lwd=2,type='l')\n",
    "lines((n+1):N,pred_VARMA[,2]+predict(gam.fit2.O3,pred.input),col=\"red\",lwd=2,type='l')\n",
    "lines((n+1):N,mgarchXforecast[,2]+predict(gam.fit2.O3,pred.input),col=\"yellow\",lwd=2,type='l')\n",
    "legend(1490, 0.05, legend=c(\"ARMA\", \"VAR\", \"VARMA\", \"mGARCHX\"), col=c(\"green\", \"blue\", \"red\", \"yellow\"), lty=1:2, cex=0.8,box.lty=0)\n",
    "\n",
    "plot(1:N,ts(poln1[1:N,7]),type='l',xlim=c(1500,1950),ylab=\"SO2\")\n",
    "abline(v=1918)\n",
    "lines((n+1):N,armaforecast[,3]+predict(gam.fit2.SO2,pred.input),col=\"green\",lwd=2,type='l')\n",
    "lines((n+1):N,pred_VAR[,3]+predict(gam.fit2.SO2,pred.input),col=\"blue\",lwd=2,type='l')\n",
    "lines((n+1):N,pred_VARMA[,3]+predict(gam.fit2.SO2,pred.input),col=\"red\",lwd=2,type='l')\n",
    "lines((n+1):N,mgarchXforecast[,3]+predict(gam.fit2.SO2,pred.input),col=\"yellow\",lwd=2,type='l')\n",
    "legend(1490, 5.5, legend=c(\"ARMA\", \"VAR\", \"VARMA\", \"mGARCHX\"), col=c(\"green\", \"blue\", \"red\", \"yellow\"), lty=1:2, cex=0.8,box.lty=0)\n",
    "\n",
    "plot(1:N,ts(poln1[1:N,9]),type='l',xlim=c(1500,1950),ylab=\"CO\")\n",
    "abline(v=1918)\n",
    "lines((n+1):N,armaforecast[,4]+predict(gam.fit2.CO,pred.input),col=\"green\",lwd=2,type='l')\n",
    "lines((n+1):N,pred_VAR[,4]+predict(gam.fit2.CO,pred.input),col=\"blue\",lwd=2,type='l')\n",
    "lines((n+1):N,pred_VARMA[,4]+predict(gam.fit2.CO,pred.input),col=\"red\",lwd=2,type='l')\n",
    "lines((n+1):N,mgarchXforecast[,4]+predict(gam.fit2.CO,pred.input),col=\"yellow\",lwd=2,type='l')\n",
    "legend(1490, 0.95, legend=c(\"ARMA\", \"VAR\", \"VARMA\", \"mGARCHX\"), col=c(\"green\", \"blue\", \"red\", \"yellow\"), lty=1:2, cex=0.8,box.lty=0)"
   ]
  }
 ],
 "metadata": {
  "kernelspec": {
   "display_name": "R",
   "language": "R",
   "name": "ir"
  },
  "language_info": {
   "codemirror_mode": "r",
   "file_extension": ".r",
   "mimetype": "text/x-r-source",
   "name": "R",
   "pygments_lexer": "r",
   "version": "3.6.1"
  }
 },
 "nbformat": 4,
 "nbformat_minor": 4
}
